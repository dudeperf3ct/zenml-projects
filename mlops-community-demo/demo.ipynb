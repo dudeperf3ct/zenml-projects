{
 "cells": [
  {
   "cell_type": "code",
   "execution_count": null,
   "metadata": {},
   "outputs": [],
   "source": [
    "!zenml stack set default"
   ]
  },
  {
   "cell_type": "code",
   "execution_count": null,
   "metadata": {},
   "outputs": [],
   "source": [
    "from zenml import pipeline, step\n",
    "\n",
    "\n",
    "@step\n",
    "def my_step():\n",
    "    print(\"Hello world!\")\n",
    "\n",
    "\n",
    "@pipeline\n",
    "def my_pipeline():\n",
    "    my_step()\n",
    "\n",
    "\n",
    "my_pipeline()"
   ]
  },
  {
   "cell_type": "code",
   "execution_count": null,
   "metadata": {},
   "outputs": [],
   "source": [
    "@step\n",
    "def some_other_step():\n",
    "    print(\"This is another step!\")\n",
    "\n",
    "\n",
    "some_other_step()"
   ]
  },
  {
   "cell_type": "code",
   "execution_count": null,
   "metadata": {},
   "outputs": [],
   "source": [
    "!zenml stack set az_k8s_pigeon"
   ]
  },
  {
   "cell_type": "code",
   "execution_count": null,
   "metadata": {},
   "outputs": [],
   "source": []
  },
  {
   "cell_type": "code",
   "execution_count": null,
   "metadata": {},
   "outputs": [],
   "source": []
  },
  {
   "cell_type": "code",
   "execution_count": null,
   "metadata": {},
   "outputs": [],
   "source": [
    "from zenml import pipeline, step\n",
    "\n",
    "\n",
    "@step(settings={\"orchestrator\": kubernetes_settings})\n",
    "def k8s_step():\n",
    "    print(\"Training model...\")\n",
    "\n",
    "\n",
    "@pipeline(settings={\"docker\": docker_settings})\n",
    "def k8s_pipeline():\n",
    "    k8s_step()\n",
    "\n",
    "\n",
    "k8s_pipeline()"
   ]
  },
  {
   "cell_type": "code",
   "execution_count": null,
   "metadata": {},
   "outputs": [],
   "source": [
    "from settings import docker_settings, kubernetes_settings\n",
    "from zenml import step\n",
    "\n",
    "\n",
    "@step(\n",
    "    settings={\"orchestrator\": kubernetes_settings, \"docker\": docker_settings}\n",
    ")\n",
    "def k8s_step():\n",
    "    print(\"Training model...\")\n",
    "\n",
    "\n",
    "k8s_step()"
   ]
  },
  {
   "cell_type": "code",
   "execution_count": null,
   "metadata": {},
   "outputs": [],
   "source": []
  }
 ],
 "metadata": {
  "kernelspec": {
   "display_name": "mlops-community",
   "language": "python",
   "name": "python3"
  },
  "language_info": {
   "codemirror_mode": {
    "name": "ipython",
    "version": 3
   },
   "file_extension": ".py",
   "mimetype": "text/x-python",
   "name": "python",
   "nbconvert_exporter": "python",
   "pygments_lexer": "ipython3",
   "version": "3.11.9"
  }
 },
 "nbformat": 4,
 "nbformat_minor": 2
}
