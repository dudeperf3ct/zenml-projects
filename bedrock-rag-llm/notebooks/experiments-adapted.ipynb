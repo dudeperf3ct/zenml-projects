{
 "cells": [
  {
   "cell_type": "markdown",
   "metadata": {},
   "source": [
    "# Using AWS Bedrock for RAG"
   ]
  },
  {
   "cell_type": "code",
   "execution_count": 1,
   "metadata": {},
   "outputs": [],
   "source": [
    "import warnings\n",
    "\n",
    "warnings.filterwarnings(\"ignore\")"
   ]
  },
  {
   "cell_type": "code",
   "execution_count": 2,
   "metadata": {},
   "outputs": [],
   "source": [
    "import os\n",
    "\n",
    "import boto3\n",
    "from zenml.service_connectors.service_connector import ServiceConnector\n",
    "\n",
    "\n",
    "def get_boto_client() -> ServiceConnector:\n",
    "    # zc = Client()\n",
    "    # return zc.get_service_connector_client(\n",
    "    #     name_id_or_prefix=\"0b04bcae-efc9-4044-a1c2-b86281cb0820\",  # TODO: pull this out into config file\n",
    "    #     resource_type=\"aws-generic\",\n",
    "    # ).connect()\n",
    "    os.environ[\"AWS_PROFILE\"] = \"zenml-devel\"\n",
    "    return boto3.Session()"
   ]
  },
  {
   "cell_type": "markdown",
   "metadata": {},
   "source": [
    "## Creating policies for Bedrock and OpenSearch Serverless"
   ]
  },
  {
   "cell_type": "code",
   "execution_count": 4,
   "metadata": {},
   "outputs": [],
   "source": [
    "import json\n",
    "\n",
    "# suffix = random.randrange(200, 900)\n",
    "boto3_session = get_boto_client()\n",
    "region_name = \"us-east-1\""
   ]
  },
  {
   "cell_type": "code",
   "execution_count": null,
   "metadata": {},
   "outputs": [],
   "source": [
    "iam_client = boto3_session.client(\"iam\", region_name=region_name)\n",
    "account_number = (\n",
    "    boto3_session.client(\"sts\", region_name=region_name)\n",
    "    .get_caller_identity()\n",
    "    .get(\"Account\")\n",
    ")\n",
    "identity = boto3_session.client(\n",
    "    \"sts\", region_name=region_name\n",
    ").get_caller_identity()[\"Arn\"]"
   ]
  },
  {
   "cell_type": "code",
   "execution_count": null,
   "metadata": {},
   "outputs": [],
   "source": [
    "encryption_policy_name = f\"bedrock-sample-rag-sp-{suffix}\"\n",
    "network_policy_name = f\"bedrock-sample-rag-np-{suffix}\"\n",
    "access_policy_name = f\"bedrock-sample-rag-ap-{suffix}\"\n",
    "bedrock_execution_role_name = (\n",
    "    f\"AmazonBedrockExecutionRoleForKnowledgeBase_{suffix}\"\n",
    ")\n",
    "fm_policy_name = f\"AmazonBedrockFoundationModelPolicyForKnowledgeBase_{suffix}\"\n",
    "s3_policy_name = f\"AmazonBedrockS3PolicyForKnowledgeBase_{suffix}\"\n",
    "sm_policy_name = f\"AmazonBedrockSecretPolicyForKnowledgeBase_{suffix}\"\n",
    "oss_policy_name = f\"AmazonBedrockOSSPolicyForKnowledgeBase_{suffix}\"\n",
    "\n",
    "\n",
    "def create_oss_policy_attach_bedrock_execution_role(\n",
    "    collection_id, bedrock_kb_execution_role\n",
    "):\n",
    "    # define oss policy document\n",
    "    oss_policy_document = {\n",
    "        \"Version\": \"2012-10-17\",\n",
    "        \"Statement\": [\n",
    "            {\n",
    "                \"Effect\": \"Allow\",\n",
    "                \"Action\": [\"aoss:APIAccessAll\"],\n",
    "                \"Resource\": [\n",
    "                    f\"arn:aws:aoss:{region_name}:{account_number}:collection/{collection_id}\"\n",
    "                ],\n",
    "            }\n",
    "        ],\n",
    "    }\n",
    "    oss_policy = iam_client.create_policy(\n",
    "        PolicyName=oss_policy_name,\n",
    "        PolicyDocument=json.dumps(oss_policy_document),\n",
    "        Description=\"Policy for accessing opensearch serverless\",\n",
    "    )\n",
    "    oss_policy_arn = oss_policy[\"Policy\"][\"Arn\"]\n",
    "    print(\"Opensearch serverless arn: \", oss_policy_arn)\n",
    "\n",
    "    iam_client.attach_role_policy(\n",
    "        RoleName=bedrock_kb_execution_role[\"Role\"][\"RoleName\"],\n",
    "        PolicyArn=oss_policy_arn,\n",
    "    )\n",
    "    return None\n",
    "\n",
    "\n",
    "def create_policies_in_oss(\n",
    "    vector_store_name, aoss_client, bedrock_kb_execution_role_arn\n",
    "):\n",
    "    encryption_policy = aoss_client.create_security_policy(\n",
    "        name=encryption_policy_name,\n",
    "        policy=json.dumps(\n",
    "            {\n",
    "                \"Rules\": [\n",
    "                    {\n",
    "                        \"Resource\": [\"collection/\" + vector_store_name],\n",
    "                        \"ResourceType\": \"collection\",\n",
    "                    }\n",
    "                ],\n",
    "                \"AWSOwnedKey\": True,\n",
    "            }\n",
    "        ),\n",
    "        type=\"encryption\",\n",
    "    )\n",
    "\n",
    "    network_policy = aoss_client.create_security_policy(\n",
    "        name=network_policy_name,\n",
    "        policy=json.dumps(\n",
    "            [\n",
    "                {\n",
    "                    \"Rules\": [\n",
    "                        {\n",
    "                            \"Resource\": [\"collection/\" + vector_store_name],\n",
    "                            \"ResourceType\": \"collection\",\n",
    "                        }\n",
    "                    ],\n",
    "                    \"AllowFromPublic\": True,\n",
    "                }\n",
    "            ]\n",
    "        ),\n",
    "        type=\"network\",\n",
    "    )\n",
    "    access_policy = aoss_client.create_access_policy(\n",
    "        name=access_policy_name,\n",
    "        policy=json.dumps(\n",
    "            [\n",
    "                {\n",
    "                    \"Rules\": [\n",
    "                        {\n",
    "                            \"Resource\": [\"collection/\" + vector_store_name],\n",
    "                            \"Permission\": [\n",
    "                                \"aoss:CreateCollectionItems\",\n",
    "                                \"aoss:DeleteCollectionItems\",\n",
    "                                \"aoss:UpdateCollectionItems\",\n",
    "                                \"aoss:DescribeCollectionItems\",\n",
    "                            ],\n",
    "                            \"ResourceType\": \"collection\",\n",
    "                        },\n",
    "                        {\n",
    "                            \"Resource\": [\"index/\" + vector_store_name + \"/*\"],\n",
    "                            \"Permission\": [\n",
    "                                \"aoss:CreateIndex\",\n",
    "                                \"aoss:DeleteIndex\",\n",
    "                                \"aoss:UpdateIndex\",\n",
    "                                \"aoss:DescribeIndex\",\n",
    "                                \"aoss:ReadDocument\",\n",
    "                                \"aoss:WriteDocument\",\n",
    "                            ],\n",
    "                            \"ResourceType\": \"index\",\n",
    "                        },\n",
    "                    ],\n",
    "                    \"Principal\": [identity, bedrock_kb_execution_role_arn],\n",
    "                    \"Description\": \"Easy data policy\",\n",
    "                }\n",
    "            ]\n",
    "        ),\n",
    "        type=\"data\",\n",
    "    )\n",
    "    return encryption_policy, network_policy, access_policy"
   ]
  },
  {
   "cell_type": "code",
   "execution_count": null,
   "metadata": {},
   "outputs": [],
   "source": [
    "import json\n",
    "\n",
    "sts_client = boto3_session.client(\"sts\", region_name=region_name)\n",
    "region_name = \"us-east-1\""
   ]
  },
  {
   "cell_type": "code",
   "execution_count": null,
   "metadata": {},
   "outputs": [],
   "source": [
    "region_name"
   ]
  },
  {
   "cell_type": "code",
   "execution_count": null,
   "metadata": {},
   "outputs": [],
   "source": [
    "bedrock_agent_client = boto3_session.client(\n",
    "    \"bedrock-agent\", region_name=region_name\n",
    ")\n",
    "bedrock_agent_runtime_client = boto3_session.client(\n",
    "    \"bedrock-agent-runtime\", region_name=region_name\n",
    ")\n",
    "\n",
    "service = \"aoss\"\n",
    "s3_client = boto3_session.client(\"s3\")\n",
    "account_id = sts_client.get_caller_identity()[\"Account\"]\n",
    "s3_suffix = f\"{region_name}-{account_id}\""
   ]
  },
  {
   "cell_type": "code",
   "execution_count": null,
   "metadata": {},
   "outputs": [],
   "source": [
    "bucket_name = \"bedrock-zenml-rag-docs\"\n",
    "\n",
    "vector_store_name = f\"bedrock-vectordb-rag-{suffix}\"\n",
    "index_name = f\"bedrock-vectordb-rag-index-{suffix}\"\n",
    "aoss_client = boto3_session.client(\n",
    "    \"opensearchserverless\", region_name=region_name\n",
    ")"
   ]
  },
  {
   "cell_type": "code",
   "execution_count": null,
   "metadata": {},
   "outputs": [],
   "source": [
    "def create_bedrock_execution_role(bucket_name: str):\n",
    "    foundation_model_policy_document = {\n",
    "        \"Version\": \"2012-10-17\",\n",
    "        \"Statement\": [\n",
    "            {\n",
    "                \"Effect\": \"Allow\",\n",
    "                \"Action\": [\n",
    "                    \"bedrock:InvokeModel\",\n",
    "                ],\n",
    "                \"Resource\": [\n",
    "                    f\"arn:aws:bedrock:{region_name}::foundation-model/amazon.titan-embed-text-v1\",\n",
    "                    f\"arn:aws:bedrock:{region_name}::foundation-model/amazon.titan-embed-text-v2:0\",\n",
    "                ],\n",
    "            }\n",
    "        ],\n",
    "    }\n",
    "\n",
    "    s3_policy_document = {\n",
    "        \"Version\": \"2012-10-17\",\n",
    "        \"Statement\": [\n",
    "            {\n",
    "                \"Effect\": \"Allow\",\n",
    "                \"Action\": [\"s3:GetObject\", \"s3:ListBucket\"],\n",
    "                \"Resource\": [\n",
    "                    f\"arn:aws:s3:::{bucket_name}\",\n",
    "                    f\"arn:aws:s3:::{bucket_name}/*\",\n",
    "                ],\n",
    "                \"Condition\": {\n",
    "                    \"StringEquals\": {\n",
    "                        \"aws:ResourceAccount\": f\"{account_number}\"\n",
    "                    }\n",
    "                },\n",
    "            }\n",
    "        ],\n",
    "    }\n",
    "\n",
    "    assume_role_policy_document = {\n",
    "        \"Version\": \"2012-10-17\",\n",
    "        \"Statement\": [\n",
    "            {\n",
    "                \"Effect\": \"Allow\",\n",
    "                \"Principal\": {\"Service\": \"bedrock.amazonaws.com\"},\n",
    "                \"Action\": \"sts:AssumeRole\",\n",
    "            }\n",
    "        ],\n",
    "    }\n",
    "\n",
    "    try:\n",
    "        # Try to get the role if it already exists\n",
    "        existing_role = iam_client.get_role(\n",
    "            RoleName=bedrock_execution_role_name\n",
    "        )\n",
    "        print(f\"Role {bedrock_execution_role_name} already exists.\")\n",
    "        bedrock_kb_execution_role = existing_role\n",
    "    except iam_client.exceptions.NoSuchEntityException:\n",
    "        # If the role doesn't exist, create it\n",
    "        print(f\"Creating new role: {bedrock_execution_role_name}\")\n",
    "        bedrock_kb_execution_role = iam_client.create_role(\n",
    "            RoleName=bedrock_execution_role_name,\n",
    "            AssumeRolePolicyDocument=json.dumps(assume_role_policy_document),\n",
    "            Description=\"Amazon Bedrock Knowledge Base Execution Role for accessing OSS and S3\",\n",
    "            MaxSessionDuration=3600,\n",
    "        )\n",
    "\n",
    "    # Use put_role_policy instead of create_policy and attach_role_policy\n",
    "    iam_client.put_role_policy(\n",
    "        RoleName=bedrock_kb_execution_role[\"Role\"][\"RoleName\"],\n",
    "        PolicyName=\"foundation_model_policy\",\n",
    "        PolicyDocument=json.dumps(foundation_model_policy_document),\n",
    "    )\n",
    "\n",
    "    iam_client.put_role_policy(\n",
    "        RoleName=bedrock_kb_execution_role[\"Role\"][\"RoleName\"],\n",
    "        PolicyName=\"s3_policy\",\n",
    "        PolicyDocument=json.dumps(s3_policy_document),\n",
    "    )\n",
    "\n",
    "    return bedrock_kb_execution_role"
   ]
  },
  {
   "cell_type": "code",
   "execution_count": null,
   "metadata": {},
   "outputs": [],
   "source": [
    "bedrock_kb_execution_role = create_bedrock_execution_role(bucket_name)\n",
    "bedrock_kb_execution_role_arn = bedrock_kb_execution_role[\"Role\"][\"Arn\"]"
   ]
  },
  {
   "cell_type": "markdown",
   "metadata": {},
   "source": [
    "## Create a collection & vector store using OpenSearch Serverless"
   ]
  },
  {
   "cell_type": "code",
   "execution_count": null,
   "metadata": {},
   "outputs": [],
   "source": [
    "# create security, network and data access policies within OSS\n",
    "encryption_policy, network_policy, access_policy = create_policies_in_oss(\n",
    "    vector_store_name=vector_store_name,\n",
    "    aoss_client=aoss_client,\n",
    "    bedrock_kb_execution_role_arn=bedrock_kb_execution_role_arn,\n",
    ")"
   ]
  },
  {
   "cell_type": "code",
   "execution_count": null,
   "metadata": {},
   "outputs": [],
   "source": [
    "boto3_session = get_boto_client()\n",
    "\n",
    "aoss_client = boto3_session.client(\n",
    "    \"opensearchserverless\", region_name=\"us-east-1\"\n",
    ")\n",
    "\n",
    "collection = aoss_client.create_collection(\n",
    "    name=vector_store_name, type=\"VECTORSEARCH\"\n",
    ")"
   ]
  },
  {
   "cell_type": "code",
   "execution_count": null,
   "metadata": {},
   "outputs": [],
   "source": [
    "aoss_client.list_collections(maxResults=15)"
   ]
  },
  {
   "cell_type": "code",
   "execution_count": null,
   "metadata": {},
   "outputs": [],
   "source": [
    "import time\n",
    "\n",
    "from rich import print as pp\n",
    "\n",
    "pp(collection)\n",
    "time.sleep(10)"
   ]
  },
  {
   "cell_type": "code",
   "execution_count": null,
   "metadata": {},
   "outputs": [],
   "source": [
    "collection_id = collection[\"createCollectionDetail\"][\"id\"]\n",
    "host = f\"{collection_id}.{region_name}.aoss.amazonaws.com\"\n",
    "pp(host)"
   ]
  },
  {
   "cell_type": "code",
   "execution_count": null,
   "metadata": {},
   "outputs": [],
   "source": [
    "create_oss_policy_attach_bedrock_execution_role(\n",
    "    collection_id=collection_id,\n",
    "    bedrock_kb_execution_role=bedrock_kb_execution_role,\n",
    ")"
   ]
  },
  {
   "cell_type": "markdown",
   "metadata": {},
   "source": [
    "## Create vector index"
   ]
  },
  {
   "cell_type": "code",
   "execution_count": null,
   "metadata": {},
   "outputs": [],
   "source": [
    "from opensearchpy import AWSV4SignerAuth, OpenSearch, RequestsHttpConnection\n",
    "\n",
    "credentials = get_boto_client().get_credentials()\n",
    "awsauth = auth = AWSV4SignerAuth(credentials, region_name, service)\n",
    "\n",
    "index_name = f\"bedrock-sample-index-{suffix}\"\n",
    "body_json = {\n",
    "    \"settings\": {\"index.knn\": \"true\"},\n",
    "    \"mappings\": {\n",
    "        \"properties\": {\n",
    "            \"vector\": {\n",
    "                \"type\": \"knn_vector\",\n",
    "                \"dimension\": 1536,\n",
    "                \"method\": {\n",
    "                    \"name\": \"hnsw\",\n",
    "                    \"engine\": \"faiss\",\n",
    "                    \"space_type\": \"l2\",\n",
    "                    \"parameters\": {\"ef_construction\": 200, \"m\": 16},\n",
    "                },\n",
    "            },\n",
    "            \"text\": {\"type\": \"text\"},\n",
    "            \"text-metadata\": {\"type\": \"text\"},\n",
    "        }\n",
    "    },\n",
    "}\n",
    "\n",
    "# Build the OpenSearch client\n",
    "oss_client = OpenSearch(\n",
    "    hosts=[{\"host\": host, \"port\": 443}],\n",
    "    http_auth=awsauth,\n",
    "    use_ssl=True,\n",
    "    verify_certs=True,\n",
    "    connection_class=RequestsHttpConnection,\n",
    "    timeout=300,\n",
    ")\n",
    "# # It can take up to a minute for data access rules to be enforced\n",
    "time.sleep(60)"
   ]
  },
  {
   "cell_type": "code",
   "execution_count": null,
   "metadata": {},
   "outputs": [],
   "source": [
    "# Create index\n",
    "response = oss_client.indices.create(\n",
    "    index=index_name, body=json.dumps(body_json)\n",
    ")\n",
    "\n",
    "print(\"\\nCreating index:\")\n",
    "pp(response)"
   ]
  },
  {
   "cell_type": "markdown",
   "metadata": {},
   "source": [
    "## Create Knowledge Base"
   ]
  },
  {
   "cell_type": "code",
   "execution_count": null,
   "metadata": {},
   "outputs": [],
   "source": [
    "boto3_session = get_boto_client()\n",
    "aoss_client = boto3_session.client(\n",
    "    \"opensearchserverless\", region_name=\"us-east-1\"\n",
    ")\n",
    "\n",
    "\n",
    "collections = aoss_client.list_collections(maxResults=15)\n",
    "collection = collections[\"collectionSummaries\"][0]"
   ]
  },
  {
   "cell_type": "code",
   "execution_count": null,
   "metadata": {},
   "outputs": [],
   "source": [
    "collection_id = collection[\"id\"]\n",
    "\n",
    "opensearchServerlessConfiguration = {\n",
    "    \"collectionArn\": collection[\"arn\"],\n",
    "    \"vectorIndexName\": index_name,\n",
    "    \"fieldMapping\": {\n",
    "        \"vectorField\": \"vector\",\n",
    "        \"textField\": \"text\",\n",
    "        \"metadataField\": \"text-metadata\",\n",
    "    },\n",
    "}\n",
    "\n",
    "# # Different Chunking Strategies\n",
    "# # FIXED_SIZE Chunking\n",
    "chunkingStrategyConfiguration = {\n",
    "    \"chunkingStrategy\": \"FIXED_SIZE\",\n",
    "    \"fixedSizeChunkingConfiguration\": {\n",
    "        \"maxTokens\": 512,\n",
    "        \"overlapPercentage\": 20,\n",
    "    },\n",
    "}\n",
    "\n",
    "# # HIERARCHICAL Chunking\n",
    "# chunkingStrategyConfiguration = {\n",
    "#     \"chunkingStrategy\": \"HIERARCHICAL\",\n",
    "#     \"hierarchicalChunkingConfiguration\": {\n",
    "#         \"levelConfigurations\": [{\"maxTokens\": 1500}, {\"maxTokens\": 300}],\n",
    "#         \"overlapTokens\": 60,\n",
    "#     },\n",
    "# }\n",
    "\n",
    "# # SEMANTIC Chunking\n",
    "# chunkingStrategyConfiguration = {\n",
    "#     \"semanticChunkingConfiguration\": {\n",
    "#         \"breakpointPercentileThreshold\": 95,\n",
    "#         \"bufferSize\": 1,\n",
    "#         \"maxTokens\": 300,\n",
    "#     }\n",
    "# }\n",
    "\n",
    "\n",
    "# S3\n",
    "s3Configuration = {\n",
    "    \"bucketArn\": f\"arn:aws:s3:::{bucket_name}\",\n",
    "}"
   ]
  },
  {
   "cell_type": "code",
   "execution_count": 6,
   "metadata": {},
   "outputs": [],
   "source": [
    "suffix = 556"
   ]
  },
  {
   "cell_type": "code",
   "execution_count": 7,
   "metadata": {},
   "outputs": [
    {
     "name": "stdout",
     "output_type": "stream",
     "text": [
      "\u001b[1;35mFound credentials in shared credentials file: ~/.aws/credentials\u001b[0m\n"
     ]
    }
   ],
   "source": [
    "boto3_session = get_boto_client()\n",
    "\n",
    "bedrock_agent_client = boto3_session.client(\n",
    "    \"bedrock-agent\", region_name=region_name\n",
    ")\n",
    "\n",
    "embeddingModelArn = f\"arn:aws:bedrock:{region_name}::foundation-model/amazon.titan-embed-text-v1\"\n",
    "\n",
    "name = f\"bedrock-sample-knowledge-base-{suffix}\"\n",
    "description = \"Bedrock Knowledge Bases for Web URL and S3 Connector\"\n",
    "roleArn = f\"AmazonBedrockExecutionRoleForKnowledgeBase_{suffix}\""
   ]
  },
  {
   "cell_type": "code",
   "execution_count": 8,
   "metadata": {},
   "outputs": [],
   "source": [
    "# Create a KnowledgeBase\n",
    "from retrying import retry\n",
    "\n",
    "\n",
    "@retry(wait_random_min=1000, wait_random_max=2000, stop_max_attempt_number=2)\n",
    "def create_knowledge_base_func():\n",
    "    create_kb_response = bedrock_agent_client.create_knowledge_base(\n",
    "        name=name,\n",
    "        description=description,\n",
    "        roleArn=roleArn,\n",
    "        knowledgeBaseConfiguration={\n",
    "            \"type\": \"VECTOR\",\n",
    "            \"vectorKnowledgeBaseConfiguration\": {\n",
    "                \"embeddingModelArn\": embeddingModelArn\n",
    "            },\n",
    "        },\n",
    "        storageConfiguration={\n",
    "            \"type\": \"OPENSEARCH_SERVERLESS\",\n",
    "            \"opensearchServerlessConfiguration\": opensearchServerlessConfiguration,\n",
    "        },\n",
    "    )\n",
    "    return create_kb_response[\"knowledgeBase\"]"
   ]
  },
  {
   "cell_type": "code",
   "execution_count": 9,
   "metadata": {},
   "outputs": [
    {
     "name": "stdout",
     "output_type": "stream",
     "text": [
      "err=NameError(\"name 'opensearchServerlessConfiguration' is not defined\"), type(err)=<class 'NameError'>\n"
     ]
    }
   ],
   "source": [
    "try:\n",
    "    kb = create_knowledge_base_func()\n",
    "except Exception as err:\n",
    "    print(f\"{err=}, {type(err)=}\")"
   ]
  },
  {
   "cell_type": "code",
   "execution_count": null,
   "metadata": {},
   "outputs": [],
   "source": [
    "# import json\n",
    "# from botocore.exceptions import ClientError\n",
    "\n",
    "# policy_name = \"BedrockKnowledgeBaseAccess\"\n",
    "# policy_document = {\n",
    "#     \"Version\": \"2012-10-17\",\n",
    "#     \"Statement\": [\n",
    "#         {\n",
    "#             \"Effect\": \"Allow\",\n",
    "#             \"Action\": [\n",
    "#                 \"bedrock:CreateKnowledgeBase\",\n",
    "#                 \"bedrock:DeleteKnowledgeBase\",\n",
    "#                 \"bedrock:GetKnowledgeBase\",\n",
    "#                 \"bedrock:ListKnowledgeBases\",\n",
    "#                 \"bedrock:UpdateKnowledgeBase\"\n",
    "#             ],\n",
    "#             \"Resource\": \"*\"\n",
    "#         }\n",
    "#     ]\n",
    "# }\n",
    "\n",
    "# try:\n",
    "#     response = iam_client.create_policy(\n",
    "#         PolicyName=policy_name,\n",
    "#         PolicyDocument=json.dumps(policy_document)\n",
    "#     )\n",
    "#     policy_arn = response['Policy']['Arn']\n",
    "#     print(f\"Created policy: {policy_arn}\")\n",
    "\n",
    "#     iam_client.attach_role_policy(\n",
    "#         RoleName=\"zenml-connectors\",\n",
    "#         PolicyArn=policy_arn\n",
    "#     )\n",
    "#     print(f\"Attached policy to role: zenml-connectors\")\n",
    "# except ClientError as e:\n",
    "#     print(f\"An error occurred: {e}\")"
   ]
  },
  {
   "cell_type": "code",
   "execution_count": null,
   "metadata": {},
   "outputs": [],
   "source": [
    "pp(kb)"
   ]
  },
  {
   "cell_type": "code",
   "execution_count": null,
   "metadata": {},
   "outputs": [],
   "source": [
    "# Get KnowledgeBase\n",
    "get_kb_response = bedrock_agent_client.get_knowledge_base(\n",
    "    knowledgeBaseId=kb[\"knowledgeBaseId\"]\n",
    ")"
   ]
  },
  {
   "cell_type": "markdown",
   "metadata": {},
   "source": [
    "## Create Data Source for Knowledge Base"
   ]
  },
  {
   "cell_type": "code",
   "execution_count": null,
   "metadata": {},
   "outputs": [],
   "source": [
    "# Create a S3 DataSource in KnowledgeBase\n",
    "create_ds_response = bedrock_agent_client.create_data_source(\n",
    "    name=name,\n",
    "    description=description,\n",
    "    knowledgeBaseId=kb[\"knowledgeBaseId\"],\n",
    "    dataDeletionPolicy=\"DELETE\",\n",
    "    dataSourceConfiguration={\n",
    "        # # For S3\n",
    "        \"type\": \"S3\",\n",
    "        \"s3Configuration\": s3Configuration,\n",
    "        # # For Web URL\n",
    "        # \"type\": \"WEB\",\n",
    "        # \"webConfiguration\":webConfiguration\n",
    "    },\n",
    "    vectorIngestionConfiguration={\n",
    "        \"chunkingConfiguration\": chunkingStrategyConfiguration\n",
    "    },\n",
    ")\n",
    "\n",
    "ds = create_ds_response[\"dataSource\"]\n",
    "pp(ds)"
   ]
  },
  {
   "cell_type": "code",
   "execution_count": null,
   "metadata": {},
   "outputs": [],
   "source": [
    "# get s3 datasource\n",
    "bedrock_agent_client.get_data_source(\n",
    "    knowledgeBaseId=kb[\"knowledgeBaseId\"], dataSourceId=ds[\"dataSourceId\"]\n",
    ")"
   ]
  },
  {
   "cell_type": "markdown",
   "metadata": {},
   "source": [
    "## Start ingestion job"
   ]
  },
  {
   "cell_type": "code",
   "execution_count": null,
   "metadata": {},
   "outputs": [],
   "source": [
    "time.sleep(10)\n",
    "\n",
    "# Start an ingestion job\n",
    "start_job_response = bedrock_agent_client.start_ingestion_job(\n",
    "    knowledgeBaseId=kb[\"knowledgeBaseId\"], dataSourceId=ds[\"dataSourceId\"]\n",
    ")"
   ]
  },
  {
   "cell_type": "code",
   "execution_count": null,
   "metadata": {},
   "outputs": [],
   "source": [
    "job = start_job_response[\"ingestionJob\"]\n",
    "pp(job)"
   ]
  },
  {
   "cell_type": "code",
   "execution_count": null,
   "metadata": {},
   "outputs": [],
   "source": [
    "job"
   ]
  },
  {
   "cell_type": "code",
   "execution_count": null,
   "metadata": {},
   "outputs": [],
   "source": [
    "# Get job\n",
    "while job[\"status\"] != \"COMPLETE\":\n",
    "    get_job_response = bedrock_agent_client.get_ingestion_job(\n",
    "        knowledgeBaseId=kb[\"knowledgeBaseId\"],\n",
    "        dataSourceId=ds[\"dataSourceId\"],\n",
    "        ingestionJobId=job[\"ingestionJobId\"],\n",
    "    )\n",
    "    job = get_job_response[\"ingestionJob\"]\n",
    "\n",
    "pp(job)\n",
    "\n",
    "# time.sleep(40)"
   ]
  },
  {
   "cell_type": "code",
   "execution_count": null,
   "metadata": {},
   "outputs": [],
   "source": [
    "kb_id = kb[\"knowledgeBaseId\"]\n",
    "print(kb_id)"
   ]
  },
  {
   "cell_type": "markdown",
   "metadata": {},
   "source": [
    "## Test the Knowledge Base"
   ]
  },
  {
   "cell_type": "code",
   "execution_count": null,
   "metadata": {},
   "outputs": [],
   "source": [
    "# try out KB using RetrieveAndGenerate API\n",
    "# model_id = \"anthropic.claude-3-sonnet-20240229-v1:0\"  # <Change it to any model of your choice which is supported by KB>\n",
    "model_id = \"anthropic.claude-3-haiku-20240307-v1:0\"\n",
    "model_arn = f\"arn:aws:bedrock:us-east-1::foundation-model/{model_id}\""
   ]
  },
  {
   "cell_type": "markdown",
   "metadata": {},
   "source": [
    "### Use the RetrieveAndGenerate API"
   ]
  },
  {
   "cell_type": "code",
   "execution_count": null,
   "metadata": {},
   "outputs": [],
   "source": [
    "query = \"What orchestrators does ZenML support?\"\n",
    "response = bedrock_agent_runtime_client.retrieve_and_generate(\n",
    "    input={\"text\": query},\n",
    "    retrieveAndGenerateConfiguration={\n",
    "        \"type\": \"KNOWLEDGE_BASE\",\n",
    "        \"knowledgeBaseConfiguration\": {\n",
    "            \"knowledgeBaseId\": kb_id,\n",
    "            \"modelArn\": model_arn,\n",
    "        },\n",
    "    },\n",
    ")\n",
    "\n",
    "generated_text = response[\"output\"][\"text\"]\n",
    "\n",
    "print(generated_text)"
   ]
  },
  {
   "cell_type": "markdown",
   "metadata": {},
   "source": [
    "### Print out the Source Attributions"
   ]
  },
  {
   "cell_type": "code",
   "execution_count": null,
   "metadata": {},
   "outputs": [],
   "source": [
    "## print out the source attribution/citations from the original documents to see if the response generated belongs to the context.\n",
    "citations = response[\"citations\"]\n",
    "contexts = []\n",
    "for citation in citations:\n",
    "    retrievedReferences = citation[\"retrievedReferences\"]\n",
    "    for reference in retrievedReferences:\n",
    "        contexts.append(reference[\"content\"][\"text\"])\n",
    "\n",
    "print(contexts[0])"
   ]
  },
  {
   "cell_type": "markdown",
   "metadata": {},
   "source": [
    "## Use the Retrieve API"
   ]
  },
  {
   "cell_type": "code",
   "execution_count": null,
   "metadata": {},
   "outputs": [],
   "source": [
    "# retrieve api for fetching only the relevant context.\n",
    "# query = \"How many new positions were opened across Amazon's fulfillment and delivery network?\"\n",
    "\n",
    "relevant_documents = bedrock_agent_runtime_client.retrieve(\n",
    "    retrievalQuery={\"text\": query},\n",
    "    knowledgeBaseId=kb_id,\n",
    "    retrievalConfiguration={\n",
    "        \"vectorSearchConfiguration\": {\n",
    "            \"numberOfResults\": 3  # will fetch top 3 documents which matches closely with the query.\n",
    "        }\n",
    "    },\n",
    ")"
   ]
  },
  {
   "cell_type": "code",
   "execution_count": null,
   "metadata": {},
   "outputs": [],
   "source": [
    "# print(relevant_documents[\"retrievalResults\"])\n",
    "\n",
    "for doc in relevant_documents[\"retrievalResults\"]:\n",
    "    print(doc[\"content\"][\"text\"])"
   ]
  },
  {
   "cell_type": "markdown",
   "metadata": {},
   "source": [
    "# Clean Up"
   ]
  },
  {
   "cell_type": "code",
   "execution_count": null,
   "metadata": {},
   "outputs": [],
   "source": [
    "# # Delete KnowledgeBase\n",
    "# bedrock_agent_client.delete_data_source(\n",
    "#     dataSourceId=ds[\"dataSourceId\"], knowledgeBaseId=kb[\"knowledgeBaseId\"]\n",
    "# )\n",
    "# bedrock_agent_client.delete_knowledge_base(\n",
    "#     knowledgeBaseId=kb[\"knowledgeBaseId\"]\n",
    "# )\n",
    "# oss_client.indices.delete(index=index_name)\n",
    "# aoss_client.delete_collection(id=collection_id)\n",
    "# aoss_client.delete_access_policy(\n",
    "#     type=\"data\", name=access_policy[\"accessPolicyDetail\"][\"name\"]\n",
    "# )\n",
    "# aoss_client.delete_security_policy(\n",
    "#     type=\"network\", name=network_policy[\"securityPolicyDetail\"][\"name\"]\n",
    "# )\n",
    "# aoss_client.delete_security_policy(\n",
    "#     type=\"encryption\", name=encryption_policy[\"securityPolicyDetail\"][\"name\"]\n",
    "# )"
   ]
  },
  {
   "cell_type": "code",
   "execution_count": null,
   "metadata": {},
   "outputs": [],
   "source": [
    "# def delete_iam_role_and_policies():\n",
    "#     fm_policy_arn = f\"arn:aws:iam::{account_number}:policy/{fm_policy_name}\"\n",
    "#     s3_policy_arn = f\"arn:aws:iam::{account_number}:policy/{s3_policy_name}\"\n",
    "#     oss_policy_arn = f\"arn:aws:iam::{account_number}:policy/{oss_policy_name}\"\n",
    "#     sm_policy_arn = f\"arn:aws:iam::{account_number}:policy/{sm_policy_name}\"\n",
    "\n",
    "#     iam_client.detach_role_policy(\n",
    "#         RoleName=bedrock_execution_role_name, PolicyArn=s3_policy_arn\n",
    "#     )\n",
    "#     iam_client.detach_role_policy(\n",
    "#         RoleName=bedrock_execution_role_name, PolicyArn=fm_policy_arn\n",
    "#     )\n",
    "#     iam_client.detach_role_policy(\n",
    "#         RoleName=bedrock_execution_role_name, PolicyArn=oss_policy_arn\n",
    "#     )\n",
    "#     iam_client.detach_role_policy(\n",
    "#         RoleName=bedrock_execution_role_name, PolicyArn=sm_policy_arn\n",
    "#     )\n",
    "#     iam_client.delete_role(RoleName=bedrock_execution_role_name)\n",
    "#     iam_client.delete_policy(PolicyArn=s3_policy_arn)\n",
    "#     iam_client.delete_policy(PolicyArn=fm_policy_arn)\n",
    "#     iam_client.delete_policy(PolicyArn=oss_policy_arn)\n",
    "#     iam_client.delete_policy(PolicyArn=sm_policy_arn)\n",
    "#     return 0\n",
    "\n",
    "\n",
    "# delete_iam_role_and_policies()"
   ]
  },
  {
   "cell_type": "markdown",
   "metadata": {},
   "source": [
    "Parts adapted and reworked from https://github.com/build-on-aws/llm-rag-vectordb-python/blob/main/bedrock-kb/KB_Bedrock_Accuracy_Improvement.ipynb"
   ]
  },
  {
   "cell_type": "markdown",
   "metadata": {},
   "source": []
  }
 ],
 "metadata": {
  "kernelspec": {
   "display_name": "bedrock",
   "language": "python",
   "name": "python3"
  },
  "language_info": {
   "codemirror_mode": {
    "name": "ipython",
    "version": 3
   },
   "file_extension": ".py",
   "mimetype": "text/x-python",
   "name": "python",
   "nbconvert_exporter": "python",
   "pygments_lexer": "ipython3",
   "version": "3.11.9"
  }
 },
 "nbformat": 4,
 "nbformat_minor": 2
}
