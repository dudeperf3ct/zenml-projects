{
 "cells": [
  {
   "cell_type": "markdown",
   "metadata": {},
   "source": [
    "# Using AWS Bedrock for RAG\n",
    "\n",
    "Adapted and reworked from https://github.com/build-on-aws/llm-rag-vectordb-python/blob/main/bedrock-kb/KB_Bedrock_Accuracy_Improvement.ipynb"
   ]
  },
  {
   "cell_type": "code",
   "execution_count": 1,
   "metadata": {},
   "outputs": [],
   "source": [
    "import warnings\n",
    "\n",
    "warnings.filterwarnings(\"ignore\")"
   ]
  },
  {
   "cell_type": "code",
   "execution_count": 2,
   "metadata": {},
   "outputs": [],
   "source": [
    "from zenml.client import Client\n",
    "from zenml.service_connectors.service_connector import ServiceConnector\n",
    "\n",
    "\n",
    "def get_boto_client() -> ServiceConnector:\n",
    "    zc = Client()\n",
    "    return zc.get_service_connector_client(\n",
    "        name_id_or_prefix=\"0b04bcae-efc9-4044-a1c2-b86281cb0820\",  # TODO: pull this out into config file\n",
    "        resource_type=\"aws-generic\",\n",
    "    ).connect()"
   ]
  },
  {
   "cell_type": "markdown",
   "metadata": {},
   "source": [
    "## Create a vector store using OpenSearch Serverless"
   ]
  },
  {
   "cell_type": "code",
   "execution_count": 3,
   "metadata": {},
   "outputs": [
    {
     "name": "stdout",
     "output_type": "stream",
     "text": [
      "\u001b[33mCould not import GCP service connector: No module named 'google.api_core'.\u001b[0m\n",
      "\u001b[33mCould not import Azure service connector: No module named 'azure'.\u001b[0m\n",
      "\u001b[33mCould not import HyperAI service connector: No module named 'paramiko'.\u001b[0m\n"
     ]
    }
   ],
   "source": [
    "import json\n",
    "import random\n",
    "\n",
    "suffix = random.randrange(200, 900)\n",
    "boto3_session = get_boto_client()\n",
    "region_name = \"us-east-1\"\n",
    "iam_client = boto3_session.client(\"iam\", region_name=region_name)\n",
    "account_number = (\n",
    "    boto3_session.client(\"sts\", region_name=region_name).get_caller_identity().get(\"Account\")\n",
    ")\n",
    "identity = boto3_session.client(\"sts\", region_name=region_name).get_caller_identity()[\"Arn\"]"
   ]
  },
  {
   "cell_type": "code",
   "execution_count": 4,
   "metadata": {},
   "outputs": [],
   "source": [
    "encryption_policy_name = f\"bedrock-sample-rag-sp-{suffix}\"\n",
    "network_policy_name = f\"bedrock-sample-rag-np-{suffix}\"\n",
    "access_policy_name = f\"bedrock-sample-rag-ap-{suffix}\"\n",
    "bedrock_execution_role_name = (\n",
    "    f\"AmazonBedrockExecutionRoleForKnowledgeBase_{suffix}\"\n",
    ")\n",
    "fm_policy_name = f\"AmazonBedrockFoundationModelPolicyForKnowledgeBase_{suffix}\"\n",
    "s3_policy_name = f\"AmazonBedrockS3PolicyForKnowledgeBase_{suffix}\"\n",
    "sm_policy_name = f\"AmazonBedrockSecretPolicyForKnowledgeBase_{suffix}\"\n",
    "oss_policy_name = f\"AmazonBedrockOSSPolicyForKnowledgeBase_{suffix}\"\n",
    "\n",
    "\n",
    "def create_oss_policy_attach_bedrock_execution_role(\n",
    "    collection_id, bedrock_kb_execution_role\n",
    "):\n",
    "    # define oss policy document\n",
    "    oss_policy_document = {\n",
    "        \"Version\": \"2012-10-17\",\n",
    "        \"Statement\": [\n",
    "            {\n",
    "                \"Effect\": \"Allow\",\n",
    "                \"Action\": [\"aoss:APIAccessAll\"],\n",
    "                \"Resource\": [\n",
    "                    f\"arn:aws:aoss:{region_name}:{account_number}:collection/{collection_id}\"\n",
    "                ],\n",
    "            }\n",
    "        ],\n",
    "    }\n",
    "    oss_policy = iam_client.create_policy(\n",
    "        PolicyName=oss_policy_name,\n",
    "        PolicyDocument=json.dumps(oss_policy_document),\n",
    "        Description=\"Policy for accessing opensearch serverless\",\n",
    "    )\n",
    "    oss_policy_arn = oss_policy[\"Policy\"][\"Arn\"]\n",
    "    print(\"Opensearch serverless arn: \", oss_policy_arn)\n",
    "\n",
    "    iam_client.attach_role_policy(\n",
    "        RoleName=bedrock_kb_execution_role[\"Role\"][\"RoleName\"],\n",
    "        PolicyArn=oss_policy_arn,\n",
    "    )\n",
    "    return None\n",
    "\n",
    "\n",
    "def create_policies_in_oss(\n",
    "    vector_store_name, aoss_client, bedrock_kb_execution_role_arn\n",
    "):\n",
    "    encryption_policy = aoss_client.create_security_policy(\n",
    "        name=encryption_policy_name,\n",
    "        policy=json.dumps(\n",
    "            {\n",
    "                \"Rules\": [\n",
    "                    {\n",
    "                        \"Resource\": [\"collection/\" + vector_store_name],\n",
    "                        \"ResourceType\": \"collection\",\n",
    "                    }\n",
    "                ],\n",
    "                \"AWSOwnedKey\": True,\n",
    "            }\n",
    "        ),\n",
    "        type=\"encryption\",\n",
    "    )\n",
    "\n",
    "    network_policy = aoss_client.create_security_policy(\n",
    "        name=network_policy_name,\n",
    "        policy=json.dumps(\n",
    "            [\n",
    "                {\n",
    "                    \"Rules\": [\n",
    "                        {\n",
    "                            \"Resource\": [\"collection/\" + vector_store_name],\n",
    "                            \"ResourceType\": \"collection\",\n",
    "                        }\n",
    "                    ],\n",
    "                    \"AllowFromPublic\": True,\n",
    "                }\n",
    "            ]\n",
    "        ),\n",
    "        type=\"network\",\n",
    "    )\n",
    "    access_policy = aoss_client.create_access_policy(\n",
    "        name=access_policy_name,\n",
    "        policy=json.dumps(\n",
    "            [\n",
    "                {\n",
    "                    \"Rules\": [\n",
    "                        {\n",
    "                            \"Resource\": [\"collection/\" + vector_store_name],\n",
    "                            \"Permission\": [\n",
    "                                \"aoss:CreateCollectionItems\",\n",
    "                                \"aoss:DeleteCollectionItems\",\n",
    "                                \"aoss:UpdateCollectionItems\",\n",
    "                                \"aoss:DescribeCollectionItems\",\n",
    "                            ],\n",
    "                            \"ResourceType\": \"collection\",\n",
    "                        },\n",
    "                        {\n",
    "                            \"Resource\": [\"index/\" + vector_store_name + \"/*\"],\n",
    "                            \"Permission\": [\n",
    "                                \"aoss:CreateIndex\",\n",
    "                                \"aoss:DeleteIndex\",\n",
    "                                \"aoss:UpdateIndex\",\n",
    "                                \"aoss:DescribeIndex\",\n",
    "                                \"aoss:ReadDocument\",\n",
    "                                \"aoss:WriteDocument\",\n",
    "                            ],\n",
    "                            \"ResourceType\": \"index\",\n",
    "                        },\n",
    "                    ],\n",
    "                    \"Principal\": [identity, bedrock_kb_execution_role_arn],\n",
    "                    \"Description\": \"Easy data policy\",\n",
    "                }\n",
    "            ]\n",
    "        ),\n",
    "        type=\"data\",\n",
    "    )\n",
    "    return encryption_policy, network_policy, access_policy"
   ]
  },
  {
   "cell_type": "code",
   "execution_count": 7,
   "metadata": {},
   "outputs": [],
   "source": [
    "import json\n",
    "import random\n",
    "\n",
    "sts_client = boto3_session.client(\"sts\", region_name=region_name)\n",
    "region_name = \"us-east-1\""
   ]
  },
  {
   "cell_type": "code",
   "execution_count": 8,
   "metadata": {},
   "outputs": [
    {
     "data": {
      "text/plain": [
       "'us-east-1'"
      ]
     },
     "execution_count": 8,
     "metadata": {},
     "output_type": "execute_result"
    }
   ],
   "source": [
    "region_name"
   ]
  },
  {
   "cell_type": "code",
   "execution_count": 9,
   "metadata": {},
   "outputs": [],
   "source": [
    "bedrock_agent_client = boto3_session.client(\n",
    "    \"bedrock-agent\", region_name=region_name\n",
    ")\n",
    "bedrock_agent_runtime_client = boto3_session.client(\n",
    "    \"bedrock-agent-runtime\", region_name=region_name\n",
    ")\n",
    "\n",
    "service = \"aoss\"\n",
    "s3_client = boto3_session.client(\"s3\")\n",
    "account_id = sts_client.get_caller_identity()[\"Account\"]\n",
    "s3_suffix = f\"{region_name}-{account_id}\""
   ]
  },
  {
   "cell_type": "code",
   "execution_count": 10,
   "metadata": {},
   "outputs": [],
   "source": [
    "bucket_name = \"bedrock-zenml-rag-docs\"\n",
    "\n",
    "vector_store_name = f\"bedrock-vectordb-rag-{suffix}\"\n",
    "index_name = f\"bedrock-vectordb-rag-index-{suffix}\"\n",
    "aoss_client = boto3_session.client(\"opensearchserverless\", region_name=region_name)"
   ]
  },
  {
   "cell_type": "code",
   "execution_count": 11,
   "metadata": {},
   "outputs": [],
   "source": [
    "def create_bedrock_execution_role(bucket_name: str):\n",
    "    foundation_model_policy_document = {\n",
    "        \"Version\": \"2012-10-17\",\n",
    "        \"Statement\": [\n",
    "            {\n",
    "                \"Effect\": \"Allow\",\n",
    "                \"Action\": [\n",
    "                    \"bedrock:InvokeModel\",\n",
    "                ],\n",
    "                \"Resource\": [\n",
    "                    f\"arn:aws:bedrock:{region_name}::foundation-model/amazon.titan-embed-text-v1\",\n",
    "                    f\"arn:aws:bedrock:{region_name}::foundation-model/amazon.titan-embed-text-v2:0\",\n",
    "                ],\n",
    "            }\n",
    "        ],\n",
    "    }\n",
    "\n",
    "    s3_policy_document = {\n",
    "        \"Version\": \"2012-10-17\",\n",
    "        \"Statement\": [\n",
    "            {\n",
    "                \"Effect\": \"Allow\",\n",
    "                \"Action\": [\"s3:GetObject\", \"s3:ListBucket\"],\n",
    "                \"Resource\": [\n",
    "                    f\"arn:aws:s3:::{bucket_name}\",\n",
    "                    f\"arn:aws:s3:::{bucket_name}/*\",\n",
    "                ],\n",
    "                \"Condition\": {\n",
    "                    \"StringEquals\": {\n",
    "                        \"aws:ResourceAccount\": f\"{account_number}\"\n",
    "                    }\n",
    "                },\n",
    "            }\n",
    "        ],\n",
    "    }\n",
    "\n",
    "    assume_role_policy_document = {\n",
    "        \"Version\": \"2012-10-17\",\n",
    "        \"Statement\": [\n",
    "            {\n",
    "                \"Effect\": \"Allow\",\n",
    "                \"Principal\": {\"Service\": \"bedrock.amazonaws.com\"},\n",
    "                \"Action\": \"sts:AssumeRole\",\n",
    "            }\n",
    "        ],\n",
    "    }\n",
    "\n",
    "    try:\n",
    "        # Try to get the role if it already exists\n",
    "        existing_role = iam_client.get_role(\n",
    "            RoleName=bedrock_execution_role_name\n",
    "        )\n",
    "        print(f\"Role {bedrock_execution_role_name} already exists.\")\n",
    "        bedrock_kb_execution_role = existing_role\n",
    "    except iam_client.exceptions.NoSuchEntityException:\n",
    "        # If the role doesn't exist, create it\n",
    "        print(f\"Creating new role: {bedrock_execution_role_name}\")\n",
    "        bedrock_kb_execution_role = iam_client.create_role(\n",
    "            RoleName=bedrock_execution_role_name,\n",
    "            AssumeRolePolicyDocument=json.dumps(assume_role_policy_document),\n",
    "            Description=\"Amazon Bedrock Knowledge Base Execution Role for accessing OSS and S3\",\n",
    "            MaxSessionDuration=3600,\n",
    "        )\n",
    "\n",
    "    # Use put_role_policy instead of create_policy and attach_role_policy\n",
    "    iam_client.put_role_policy(\n",
    "        RoleName=bedrock_kb_execution_role[\"Role\"][\"RoleName\"],\n",
    "        PolicyName=\"foundation_model_policy\",\n",
    "        PolicyDocument=json.dumps(foundation_model_policy_document),\n",
    "    )\n",
    "\n",
    "    iam_client.put_role_policy(\n",
    "        RoleName=bedrock_kb_execution_role[\"Role\"][\"RoleName\"],\n",
    "        PolicyName=\"s3_policy\",\n",
    "        PolicyDocument=json.dumps(s3_policy_document),\n",
    "    )\n",
    "\n",
    "    return bedrock_kb_execution_role"
   ]
  },
  {
   "cell_type": "code",
   "execution_count": 12,
   "metadata": {},
   "outputs": [
    {
     "name": "stdout",
     "output_type": "stream",
     "text": [
      "Creating new role: AmazonBedrockExecutionRoleForKnowledgeBase_504\n"
     ]
    }
   ],
   "source": [
    "bedrock_kb_execution_role = create_bedrock_execution_role(bucket_name)\n",
    "bedrock_kb_execution_role_arn = bedrock_kb_execution_role[\"Role\"][\"Arn\"]"
   ]
  },
  {
   "cell_type": "code",
   "execution_count": 13,
   "metadata": {},
   "outputs": [],
   "source": [
    "# create security, network and data access policies within OSS\n",
    "encryption_policy, network_policy, access_policy = create_policies_in_oss(\n",
    "    vector_store_name=vector_store_name,\n",
    "    aoss_client=aoss_client,\n",
    "    bedrock_kb_execution_role_arn=bedrock_kb_execution_role_arn,\n",
    ")\n",
    "\n",
    "collection = aoss_client.create_collection(\n",
    "    name=vector_store_name, type=\"VECTORSEARCH\"\n",
    ")"
   ]
  },
  {
   "cell_type": "code",
   "execution_count": 14,
   "metadata": {},
   "outputs": [
    {
     "data": {
      "text/html": [
       "<pre style=\"white-space:pre;overflow-x:auto;line-height:normal;font-family:Menlo,'DejaVu Sans Mono',consolas,'Courier New',monospace\"><span style=\"font-weight: bold\">{</span>\n",
       "    <span style=\"color: #008000; text-decoration-color: #008000\">'createCollectionDetail'</span>: <span style=\"font-weight: bold\">{</span>\n",
       "        <span style=\"color: #008000; text-decoration-color: #008000\">'arn'</span>: <span style=\"color: #008000; text-decoration-color: #008000\">'arn:aws:aoss:us-east-1:339712793861:collection/h4oi0m3810cxc5yhmea'</span>,\n",
       "        <span style=\"color: #008000; text-decoration-color: #008000\">'createdDate'</span>: <span style=\"color: #008080; text-decoration-color: #008080; font-weight: bold\">1724419998780</span>,\n",
       "        <span style=\"color: #008000; text-decoration-color: #008000\">'id'</span>: <span style=\"color: #008000; text-decoration-color: #008000\">'h4oi0m3810cxc5yhmea'</span>,\n",
       "        <span style=\"color: #008000; text-decoration-color: #008000\">'kmsKeyArn'</span>: <span style=\"color: #008000; text-decoration-color: #008000\">'auto'</span>,\n",
       "        <span style=\"color: #008000; text-decoration-color: #008000\">'lastModifiedDate'</span>: <span style=\"color: #008080; text-decoration-color: #008080; font-weight: bold\">1724419998780</span>,\n",
       "        <span style=\"color: #008000; text-decoration-color: #008000\">'name'</span>: <span style=\"color: #008000; text-decoration-color: #008000\">'bedrock-vectordb-rag-504'</span>,\n",
       "        <span style=\"color: #008000; text-decoration-color: #008000\">'standbyReplicas'</span>: <span style=\"color: #008000; text-decoration-color: #008000\">'ENABLED'</span>,\n",
       "        <span style=\"color: #008000; text-decoration-color: #008000\">'status'</span>: <span style=\"color: #008000; text-decoration-color: #008000\">'CREATING'</span>,\n",
       "        <span style=\"color: #008000; text-decoration-color: #008000\">'type'</span>: <span style=\"color: #008000; text-decoration-color: #008000\">'VECTORSEARCH'</span>\n",
       "    <span style=\"font-weight: bold\">}</span>,\n",
       "    <span style=\"color: #008000; text-decoration-color: #008000\">'ResponseMetadata'</span>: <span style=\"font-weight: bold\">{</span>\n",
       "        <span style=\"color: #008000; text-decoration-color: #008000\">'RequestId'</span>: <span style=\"color: #008000; text-decoration-color: #008000\">'9f129eed-9d93-4e28-80d2-02e99acb2316'</span>,\n",
       "        <span style=\"color: #008000; text-decoration-color: #008000\">'HTTPStatusCode'</span>: <span style=\"color: #008080; text-decoration-color: #008080; font-weight: bold\">200</span>,\n",
       "        <span style=\"color: #008000; text-decoration-color: #008000\">'HTTPHeaders'</span>: <span style=\"font-weight: bold\">{</span>\n",
       "            <span style=\"color: #008000; text-decoration-color: #008000\">'x-amzn-requestid'</span>: <span style=\"color: #008000; text-decoration-color: #008000\">'9f129eed-9d93-4e28-80d2-02e99acb2316'</span>,\n",
       "            <span style=\"color: #008000; text-decoration-color: #008000\">'date'</span>: <span style=\"color: #008000; text-decoration-color: #008000\">'Fri, 23 Aug 2024 13:33:18 GMT'</span>,\n",
       "            <span style=\"color: #008000; text-decoration-color: #008000\">'content-type'</span>: <span style=\"color: #008000; text-decoration-color: #008000\">'application/x-amz-json-1.0'</span>,\n",
       "            <span style=\"color: #008000; text-decoration-color: #008000\">'content-length'</span>: <span style=\"color: #008000; text-decoration-color: #008000\">'314'</span>,\n",
       "            <span style=\"color: #008000; text-decoration-color: #008000\">'connection'</span>: <span style=\"color: #008000; text-decoration-color: #008000\">'keep-alive'</span>\n",
       "        <span style=\"font-weight: bold\">}</span>,\n",
       "        <span style=\"color: #008000; text-decoration-color: #008000\">'RetryAttempts'</span>: <span style=\"color: #008080; text-decoration-color: #008080; font-weight: bold\">0</span>\n",
       "    <span style=\"font-weight: bold\">}</span>\n",
       "<span style=\"font-weight: bold\">}</span>\n",
       "</pre>\n"
      ],
      "text/plain": [
       "\u001b[1m{\u001b[0m\n",
       "    \u001b[32m'createCollectionDetail'\u001b[0m: \u001b[1m{\u001b[0m\n",
       "        \u001b[32m'arn'\u001b[0m: \u001b[32m'arn:aws:aoss:us-east-1:339712793861:collection/h4oi0m3810cxc5yhmea'\u001b[0m,\n",
       "        \u001b[32m'createdDate'\u001b[0m: \u001b[1;36m1724419998780\u001b[0m,\n",
       "        \u001b[32m'id'\u001b[0m: \u001b[32m'h4oi0m3810cxc5yhmea'\u001b[0m,\n",
       "        \u001b[32m'kmsKeyArn'\u001b[0m: \u001b[32m'auto'\u001b[0m,\n",
       "        \u001b[32m'lastModifiedDate'\u001b[0m: \u001b[1;36m1724419998780\u001b[0m,\n",
       "        \u001b[32m'name'\u001b[0m: \u001b[32m'bedrock-vectordb-rag-504'\u001b[0m,\n",
       "        \u001b[32m'standbyReplicas'\u001b[0m: \u001b[32m'ENABLED'\u001b[0m,\n",
       "        \u001b[32m'status'\u001b[0m: \u001b[32m'CREATING'\u001b[0m,\n",
       "        \u001b[32m'type'\u001b[0m: \u001b[32m'VECTORSEARCH'\u001b[0m\n",
       "    \u001b[1m}\u001b[0m,\n",
       "    \u001b[32m'ResponseMetadata'\u001b[0m: \u001b[1m{\u001b[0m\n",
       "        \u001b[32m'RequestId'\u001b[0m: \u001b[32m'9f129eed-9d93-4e28-80d2-02e99acb2316'\u001b[0m,\n",
       "        \u001b[32m'HTTPStatusCode'\u001b[0m: \u001b[1;36m200\u001b[0m,\n",
       "        \u001b[32m'HTTPHeaders'\u001b[0m: \u001b[1m{\u001b[0m\n",
       "            \u001b[32m'x-amzn-requestid'\u001b[0m: \u001b[32m'9f129eed-9d93-4e28-80d2-02e99acb2316'\u001b[0m,\n",
       "            \u001b[32m'date'\u001b[0m: \u001b[32m'Fri, 23 Aug 2024 13:33:18 GMT'\u001b[0m,\n",
       "            \u001b[32m'content-type'\u001b[0m: \u001b[32m'application/x-amz-json-1.0'\u001b[0m,\n",
       "            \u001b[32m'content-length'\u001b[0m: \u001b[32m'314'\u001b[0m,\n",
       "            \u001b[32m'connection'\u001b[0m: \u001b[32m'keep-alive'\u001b[0m\n",
       "        \u001b[1m}\u001b[0m,\n",
       "        \u001b[32m'RetryAttempts'\u001b[0m: \u001b[1;36m0\u001b[0m\n",
       "    \u001b[1m}\u001b[0m\n",
       "\u001b[1m}\u001b[0m\n"
      ]
     },
     "metadata": {},
     "output_type": "display_data"
    }
   ],
   "source": [
    "import time\n",
    "\n",
    "from rich import print as pp\n",
    "\n",
    "pp(collection)\n",
    "time.sleep(10)"
   ]
  },
  {
   "cell_type": "code",
   "execution_count": 15,
   "metadata": {},
   "outputs": [
    {
     "data": {
      "text/html": [
       "<pre style=\"white-space:pre;overflow-x:auto;line-height:normal;font-family:Menlo,'DejaVu Sans Mono',consolas,'Courier New',monospace\">h4oi0m3810cxc5yhmea.us-east-<span style=\"color: #008080; text-decoration-color: #008080; font-weight: bold\">1.</span>aoss.amazonaws.com\n",
       "</pre>\n"
      ],
      "text/plain": [
       "h4oi0m3810cxc5yhmea.us-east-\u001b[1;36m1.\u001b[0maoss.amazonaws.com\n"
      ]
     },
     "metadata": {},
     "output_type": "display_data"
    }
   ],
   "source": [
    "collection_id = collection[\"createCollectionDetail\"][\"id\"]\n",
    "host = f\"{collection_id}.{region_name}.aoss.amazonaws.com\"\n",
    "pp(host)"
   ]
  },
  {
   "cell_type": "code",
   "execution_count": 16,
   "metadata": {},
   "outputs": [
    {
     "name": "stdout",
     "output_type": "stream",
     "text": [
      "Opensearch serverless arn:  arn:aws:iam::339712793861:policy/AmazonBedrockOSSPolicyForKnowledgeBase_504\n"
     ]
    }
   ],
   "source": [
    "create_oss_policy_attach_bedrock_execution_role(\n",
    "    collection_id=collection_id,\n",
    "    bedrock_kb_execution_role=bedrock_kb_execution_role,\n",
    ")"
   ]
  },
  {
   "cell_type": "markdown",
   "metadata": {},
   "source": [
    "## Create vector index"
   ]
  },
  {
   "cell_type": "code",
   "execution_count": 17,
   "metadata": {},
   "outputs": [],
   "source": [
    "from opensearchpy import AWSV4SignerAuth, OpenSearch, RequestsHttpConnection\n",
    "\n",
    "credentials = get_boto_client().get_credentials()\n",
    "awsauth = auth = AWSV4SignerAuth(credentials, region_name, service)\n",
    "\n",
    "index_name = f\"bedrock-sample-index-{suffix}\"\n",
    "body_json = {\n",
    "    \"settings\": {\"index.knn\": \"true\"},\n",
    "    \"mappings\": {\n",
    "        \"properties\": {\n",
    "            \"vector\": {\n",
    "                \"type\": \"knn_vector\",\n",
    "                \"dimension\": 1536,\n",
    "                \"method\": {\n",
    "                    \"name\": \"hnsw\",\n",
    "                    \"engine\": \"faiss\",\n",
    "                    \"space_type\": \"l2\",\n",
    "                    \"parameters\": {\"ef_construction\": 200, \"m\": 16},\n",
    "                },\n",
    "            },\n",
    "            \"text\": {\"type\": \"text\"},\n",
    "            \"text-metadata\": {\"type\": \"text\"},\n",
    "        }\n",
    "    },\n",
    "}\n",
    "\n",
    "# Build the OpenSearch client\n",
    "oss_client = OpenSearch(\n",
    "    hosts=[{\"host\": host, \"port\": 443}],\n",
    "    http_auth=awsauth,\n",
    "    use_ssl=True,\n",
    "    verify_certs=True,\n",
    "    connection_class=RequestsHttpConnection,\n",
    "    timeout=300,\n",
    ")\n",
    "# # It can take up to a minute for data access rules to be enforced\n",
    "time.sleep(60)"
   ]
  },
  {
   "cell_type": "code",
   "execution_count": 18,
   "metadata": {},
   "outputs": [
    {
     "name": "stdout",
     "output_type": "stream",
     "text": [
      "\u001b[1;35mPUT \u001b[0m\u001b[34mhttps://h4oi0m3810cxc5yhmea.us-east-1.aoss.amazonaws.com:443/bedrock-sample-index-504\u001b[1;35m [status:200 request:1.203s]\u001b[0m\n",
      "\n",
      "Creating index:\n"
     ]
    },
    {
     "data": {
      "text/html": [
       "<pre style=\"white-space:pre;overflow-x:auto;line-height:normal;font-family:Menlo,'DejaVu Sans Mono',consolas,'Courier New',monospace\"><span style=\"font-weight: bold\">{</span><span style=\"color: #008000; text-decoration-color: #008000\">'acknowledged'</span>: <span style=\"color: #00ff00; text-decoration-color: #00ff00; font-style: italic\">True</span>, <span style=\"color: #008000; text-decoration-color: #008000\">'shards_acknowledged'</span>: <span style=\"color: #00ff00; text-decoration-color: #00ff00; font-style: italic\">True</span>, <span style=\"color: #008000; text-decoration-color: #008000\">'index'</span>: <span style=\"color: #008000; text-decoration-color: #008000\">'bedrock-sample-index-504'</span><span style=\"font-weight: bold\">}</span>\n",
       "</pre>\n"
      ],
      "text/plain": [
       "\u001b[1m{\u001b[0m\u001b[32m'acknowledged'\u001b[0m: \u001b[3;92mTrue\u001b[0m, \u001b[32m'shards_acknowledged'\u001b[0m: \u001b[3;92mTrue\u001b[0m, \u001b[32m'index'\u001b[0m: \u001b[32m'bedrock-sample-index-504'\u001b[0m\u001b[1m}\u001b[0m\n"
      ]
     },
     "metadata": {},
     "output_type": "display_data"
    }
   ],
   "source": [
    "# Create index\n",
    "response = oss_client.indices.create(\n",
    "    index=index_name, body=json.dumps(body_json)\n",
    ")\n",
    "\n",
    "print(\"\\nCreating index:\")\n",
    "pp(response)"
   ]
  },
  {
   "cell_type": "markdown",
   "metadata": {},
   "source": [
    "## Create Knowledge Base"
   ]
  },
  {
   "cell_type": "code",
   "execution_count": 19,
   "metadata": {},
   "outputs": [],
   "source": [
    "opensearchServerlessConfiguration = {\n",
    "    \"collectionArn\": collection[\"createCollectionDetail\"][\"arn\"],\n",
    "    \"vectorIndexName\": index_name,\n",
    "    \"fieldMapping\": {\n",
    "        \"vectorField\": \"vector\",\n",
    "        \"textField\": \"text\",\n",
    "        \"metadataField\": \"text-metadata\",\n",
    "    },\n",
    "}\n",
    "\n",
    "# # Different Chunking Strategies\n",
    "# # FIXED_SIZE Chunking\n",
    "chunkingStrategyConfiguration = {\n",
    "    \"chunkingStrategy\": \"FIXED_SIZE\",\n",
    "    \"fixedSizeChunkingConfiguration\": {\n",
    "        \"maxTokens\": 512,\n",
    "        \"overlapPercentage\": 20,\n",
    "    },\n",
    "}\n",
    "\n",
    "# # HIERARCHICAL Chunking\n",
    "# chunkingStrategyConfiguration = {\n",
    "#     \"chunkingStrategy\": \"HIERARCHICAL\",\n",
    "#     \"hierarchicalChunkingConfiguration\": {\n",
    "#         \"levelConfigurations\": [{\"maxTokens\": 1500}, {\"maxTokens\": 300}],\n",
    "#         \"overlapTokens\": 60,\n",
    "#     },\n",
    "# }\n",
    "\n",
    "# # SEMANTIC Chunking\n",
    "# chunkingStrategyConfiguration = {\n",
    "#     \"semanticChunkingConfiguration\": {\n",
    "#         \"breakpointPercentileThreshold\": 95,\n",
    "#         \"bufferSize\": 1,\n",
    "#         \"maxTokens\": 300,\n",
    "#     }\n",
    "# }\n",
    "\n",
    "\n",
    "# S3\n",
    "s3Configuration = {\n",
    "    \"bucketArn\": f\"arn:aws:s3:::{bucket_name}\",\n",
    "}"
   ]
  },
  {
   "cell_type": "code",
   "execution_count": 20,
   "metadata": {},
   "outputs": [],
   "source": [
    "embeddingModelArn = f\"arn:aws:bedrock:{region_name}::foundation-model/amazon.titan-embed-text-v1\"\n",
    "\n",
    "name = f\"bedrock-sample-knowledge-base-{suffix}\"\n",
    "description = \"Bedrock Knowledge Bases for Web URL and S3 Connector\"\n",
    "roleArn = bedrock_kb_execution_role_arn"
   ]
  },
  {
   "cell_type": "code",
   "execution_count": 21,
   "metadata": {},
   "outputs": [],
   "source": [
    "# Create a KnowledgeBase\n",
    "from retrying import retry\n",
    "\n",
    "\n",
    "@retry(wait_random_min=1000, wait_random_max=2000, stop_max_attempt_number=7)\n",
    "def create_knowledge_base_func():\n",
    "    create_kb_response = bedrock_agent_client.create_knowledge_base(\n",
    "        name=name,\n",
    "        description=description,\n",
    "        roleArn=roleArn,\n",
    "        knowledgeBaseConfiguration={\n",
    "            \"type\": \"VECTOR\",\n",
    "            \"vectorKnowledgeBaseConfiguration\": {\n",
    "                \"embeddingModelArn\": embeddingModelArn\n",
    "            },\n",
    "        },\n",
    "        storageConfiguration={\n",
    "            \"type\": \"OPENSEARCH_SERVERLESS\",\n",
    "            \"opensearchServerlessConfiguration\": opensearchServerlessConfiguration,\n",
    "        },\n",
    "    )\n",
    "    return create_kb_response[\"knowledgeBase\"]"
   ]
  },
  {
   "cell_type": "code",
   "execution_count": 22,
   "metadata": {},
   "outputs": [],
   "source": [
    "try:\n",
    "    kb = create_knowledge_base_func()\n",
    "except Exception as err:\n",
    "    print(f\"{err=}, {type(err)=}\")"
   ]
  },
  {
   "cell_type": "code",
   "execution_count": 23,
   "metadata": {},
   "outputs": [
    {
     "data": {
      "text/html": [
       "<pre style=\"white-space:pre;overflow-x:auto;line-height:normal;font-family:Menlo,'DejaVu Sans Mono',consolas,'Courier New',monospace\"><span style=\"font-weight: bold\">{</span>\n",
       "    <span style=\"color: #008000; text-decoration-color: #008000\">'createdAt'</span>: <span style=\"color: #800080; text-decoration-color: #800080; font-weight: bold\">datetime.datetime</span><span style=\"font-weight: bold\">(</span><span style=\"color: #008080; text-decoration-color: #008080; font-weight: bold\">2024</span>, <span style=\"color: #008080; text-decoration-color: #008080; font-weight: bold\">8</span>, <span style=\"color: #008080; text-decoration-color: #008080; font-weight: bold\">23</span>, <span style=\"color: #008080; text-decoration-color: #008080; font-weight: bold\">13</span>, <span style=\"color: #008080; text-decoration-color: #008080; font-weight: bold\">34</span>, <span style=\"color: #008080; text-decoration-color: #008080; font-weight: bold\">50</span>, <span style=\"color: #008080; text-decoration-color: #008080; font-weight: bold\">269638</span>, <span style=\"color: #808000; text-decoration-color: #808000\">tzinfo</span>=<span style=\"color: #800080; text-decoration-color: #800080; font-weight: bold\">tzutc</span><span style=\"font-weight: bold\">())</span>,\n",
       "    <span style=\"color: #008000; text-decoration-color: #008000\">'description'</span>: <span style=\"color: #008000; text-decoration-color: #008000\">'Bedrock Knowledge Bases for Web URL and S3 Connector'</span>,\n",
       "    <span style=\"color: #008000; text-decoration-color: #008000\">'knowledgeBaseArn'</span>: <span style=\"color: #008000; text-decoration-color: #008000\">'arn:aws:bedrock:us-east-1:339712793861:knowledge-base/KQ7FPTPCSQ'</span>,\n",
       "    <span style=\"color: #008000; text-decoration-color: #008000\">'knowledgeBaseConfiguration'</span>: <span style=\"font-weight: bold\">{</span>\n",
       "        <span style=\"color: #008000; text-decoration-color: #008000\">'type'</span>: <span style=\"color: #008000; text-decoration-color: #008000\">'VECTOR'</span>,\n",
       "        <span style=\"color: #008000; text-decoration-color: #008000\">'vectorKnowledgeBaseConfiguration'</span>: <span style=\"font-weight: bold\">{</span>\n",
       "            <span style=\"color: #008000; text-decoration-color: #008000\">'embeddingModelArn'</span>: <span style=\"color: #008000; text-decoration-color: #008000\">'arn:aws:bedrock:us-east-1::foundation-model/amazon.titan-embed-text-v1'</span>\n",
       "        <span style=\"font-weight: bold\">}</span>\n",
       "    <span style=\"font-weight: bold\">}</span>,\n",
       "    <span style=\"color: #008000; text-decoration-color: #008000\">'knowledgeBaseId'</span>: <span style=\"color: #008000; text-decoration-color: #008000\">'KQ7FPTPCSQ'</span>,\n",
       "    <span style=\"color: #008000; text-decoration-color: #008000\">'name'</span>: <span style=\"color: #008000; text-decoration-color: #008000\">'bedrock-sample-knowledge-base-504'</span>,\n",
       "    <span style=\"color: #008000; text-decoration-color: #008000\">'roleArn'</span>: <span style=\"color: #008000; text-decoration-color: #008000\">'arn:aws:iam::339712793861:role/AmazonBedrockExecutionRoleForKnowledgeBase_504'</span>,\n",
       "    <span style=\"color: #008000; text-decoration-color: #008000\">'status'</span>: <span style=\"color: #008000; text-decoration-color: #008000\">'CREATING'</span>,\n",
       "    <span style=\"color: #008000; text-decoration-color: #008000\">'storageConfiguration'</span>: <span style=\"font-weight: bold\">{</span>\n",
       "        <span style=\"color: #008000; text-decoration-color: #008000\">'opensearchServerlessConfiguration'</span>: <span style=\"font-weight: bold\">{</span>\n",
       "            <span style=\"color: #008000; text-decoration-color: #008000\">'collectionArn'</span>: <span style=\"color: #008000; text-decoration-color: #008000\">'arn:aws:aoss:us-east-1:339712793861:collection/h4oi0m3810cxc5yhmea'</span>,\n",
       "            <span style=\"color: #008000; text-decoration-color: #008000\">'fieldMapping'</span>: <span style=\"font-weight: bold\">{</span><span style=\"color: #008000; text-decoration-color: #008000\">'metadataField'</span>: <span style=\"color: #008000; text-decoration-color: #008000\">'text-metadata'</span>, <span style=\"color: #008000; text-decoration-color: #008000\">'textField'</span>: <span style=\"color: #008000; text-decoration-color: #008000\">'text'</span>, <span style=\"color: #008000; text-decoration-color: #008000\">'vectorField'</span>: <span style=\"color: #008000; text-decoration-color: #008000\">'vector'</span><span style=\"font-weight: bold\">}</span>,\n",
       "            <span style=\"color: #008000; text-decoration-color: #008000\">'vectorIndexName'</span>: <span style=\"color: #008000; text-decoration-color: #008000\">'bedrock-sample-index-504'</span>\n",
       "        <span style=\"font-weight: bold\">}</span>,\n",
       "        <span style=\"color: #008000; text-decoration-color: #008000\">'type'</span>: <span style=\"color: #008000; text-decoration-color: #008000\">'OPENSEARCH_SERVERLESS'</span>\n",
       "    <span style=\"font-weight: bold\">}</span>,\n",
       "    <span style=\"color: #008000; text-decoration-color: #008000\">'updatedAt'</span>: <span style=\"color: #800080; text-decoration-color: #800080; font-weight: bold\">datetime.datetime</span><span style=\"font-weight: bold\">(</span><span style=\"color: #008080; text-decoration-color: #008080; font-weight: bold\">2024</span>, <span style=\"color: #008080; text-decoration-color: #008080; font-weight: bold\">8</span>, <span style=\"color: #008080; text-decoration-color: #008080; font-weight: bold\">23</span>, <span style=\"color: #008080; text-decoration-color: #008080; font-weight: bold\">13</span>, <span style=\"color: #008080; text-decoration-color: #008080; font-weight: bold\">34</span>, <span style=\"color: #008080; text-decoration-color: #008080; font-weight: bold\">50</span>, <span style=\"color: #008080; text-decoration-color: #008080; font-weight: bold\">269638</span>, <span style=\"color: #808000; text-decoration-color: #808000\">tzinfo</span>=<span style=\"color: #800080; text-decoration-color: #800080; font-weight: bold\">tzutc</span><span style=\"font-weight: bold\">())</span>\n",
       "<span style=\"font-weight: bold\">}</span>\n",
       "</pre>\n"
      ],
      "text/plain": [
       "\u001b[1m{\u001b[0m\n",
       "    \u001b[32m'createdAt'\u001b[0m: \u001b[1;35mdatetime.datetime\u001b[0m\u001b[1m(\u001b[0m\u001b[1;36m2024\u001b[0m, \u001b[1;36m8\u001b[0m, \u001b[1;36m23\u001b[0m, \u001b[1;36m13\u001b[0m, \u001b[1;36m34\u001b[0m, \u001b[1;36m50\u001b[0m, \u001b[1;36m269638\u001b[0m, \u001b[33mtzinfo\u001b[0m=\u001b[1;35mtzutc\u001b[0m\u001b[1m(\u001b[0m\u001b[1m)\u001b[0m\u001b[1m)\u001b[0m,\n",
       "    \u001b[32m'description'\u001b[0m: \u001b[32m'Bedrock Knowledge Bases for Web URL and S3 Connector'\u001b[0m,\n",
       "    \u001b[32m'knowledgeBaseArn'\u001b[0m: \u001b[32m'arn:aws:bedrock:us-east-1:339712793861:knowledge-base/KQ7FPTPCSQ'\u001b[0m,\n",
       "    \u001b[32m'knowledgeBaseConfiguration'\u001b[0m: \u001b[1m{\u001b[0m\n",
       "        \u001b[32m'type'\u001b[0m: \u001b[32m'VECTOR'\u001b[0m,\n",
       "        \u001b[32m'vectorKnowledgeBaseConfiguration'\u001b[0m: \u001b[1m{\u001b[0m\n",
       "            \u001b[32m'embeddingModelArn'\u001b[0m: \u001b[32m'arn:aws:bedrock:us-east-1::foundation-model/amazon.titan-embed-text-v1'\u001b[0m\n",
       "        \u001b[1m}\u001b[0m\n",
       "    \u001b[1m}\u001b[0m,\n",
       "    \u001b[32m'knowledgeBaseId'\u001b[0m: \u001b[32m'KQ7FPTPCSQ'\u001b[0m,\n",
       "    \u001b[32m'name'\u001b[0m: \u001b[32m'bedrock-sample-knowledge-base-504'\u001b[0m,\n",
       "    \u001b[32m'roleArn'\u001b[0m: \u001b[32m'arn:aws:iam::339712793861:role/AmazonBedrockExecutionRoleForKnowledgeBase_504'\u001b[0m,\n",
       "    \u001b[32m'status'\u001b[0m: \u001b[32m'CREATING'\u001b[0m,\n",
       "    \u001b[32m'storageConfiguration'\u001b[0m: \u001b[1m{\u001b[0m\n",
       "        \u001b[32m'opensearchServerlessConfiguration'\u001b[0m: \u001b[1m{\u001b[0m\n",
       "            \u001b[32m'collectionArn'\u001b[0m: \u001b[32m'arn:aws:aoss:us-east-1:339712793861:collection/h4oi0m3810cxc5yhmea'\u001b[0m,\n",
       "            \u001b[32m'fieldMapping'\u001b[0m: \u001b[1m{\u001b[0m\u001b[32m'metadataField'\u001b[0m: \u001b[32m'text-metadata'\u001b[0m, \u001b[32m'textField'\u001b[0m: \u001b[32m'text'\u001b[0m, \u001b[32m'vectorField'\u001b[0m: \u001b[32m'vector'\u001b[0m\u001b[1m}\u001b[0m,\n",
       "            \u001b[32m'vectorIndexName'\u001b[0m: \u001b[32m'bedrock-sample-index-504'\u001b[0m\n",
       "        \u001b[1m}\u001b[0m,\n",
       "        \u001b[32m'type'\u001b[0m: \u001b[32m'OPENSEARCH_SERVERLESS'\u001b[0m\n",
       "    \u001b[1m}\u001b[0m,\n",
       "    \u001b[32m'updatedAt'\u001b[0m: \u001b[1;35mdatetime.datetime\u001b[0m\u001b[1m(\u001b[0m\u001b[1;36m2024\u001b[0m, \u001b[1;36m8\u001b[0m, \u001b[1;36m23\u001b[0m, \u001b[1;36m13\u001b[0m, \u001b[1;36m34\u001b[0m, \u001b[1;36m50\u001b[0m, \u001b[1;36m269638\u001b[0m, \u001b[33mtzinfo\u001b[0m=\u001b[1;35mtzutc\u001b[0m\u001b[1m(\u001b[0m\u001b[1m)\u001b[0m\u001b[1m)\u001b[0m\n",
       "\u001b[1m}\u001b[0m\n"
      ]
     },
     "metadata": {},
     "output_type": "display_data"
    }
   ],
   "source": [
    "pp(kb)"
   ]
  },
  {
   "cell_type": "code",
   "execution_count": 24,
   "metadata": {},
   "outputs": [],
   "source": [
    "# Get KnowledgeBase\n",
    "get_kb_response = bedrock_agent_client.get_knowledge_base(\n",
    "    knowledgeBaseId=kb[\"knowledgeBaseId\"]\n",
    ")"
   ]
  },
  {
   "cell_type": "markdown",
   "metadata": {},
   "source": [
    "## Create Data Source for Knowledge Base"
   ]
  },
  {
   "cell_type": "code",
   "execution_count": 25,
   "metadata": {},
   "outputs": [
    {
     "data": {
      "text/html": [
       "<pre style=\"white-space:pre;overflow-x:auto;line-height:normal;font-family:Menlo,'DejaVu Sans Mono',consolas,'Courier New',monospace\"><span style=\"font-weight: bold\">{</span>\n",
       "    <span style=\"color: #008000; text-decoration-color: #008000\">'createdAt'</span>: <span style=\"color: #800080; text-decoration-color: #800080; font-weight: bold\">datetime.datetime</span><span style=\"font-weight: bold\">(</span><span style=\"color: #008080; text-decoration-color: #008080; font-weight: bold\">2024</span>, <span style=\"color: #008080; text-decoration-color: #008080; font-weight: bold\">8</span>, <span style=\"color: #008080; text-decoration-color: #008080; font-weight: bold\">23</span>, <span style=\"color: #008080; text-decoration-color: #008080; font-weight: bold\">13</span>, <span style=\"color: #008080; text-decoration-color: #008080; font-weight: bold\">34</span>, <span style=\"color: #008080; text-decoration-color: #008080; font-weight: bold\">55</span>, <span style=\"color: #008080; text-decoration-color: #008080; font-weight: bold\">213463</span>, <span style=\"color: #808000; text-decoration-color: #808000\">tzinfo</span>=<span style=\"color: #800080; text-decoration-color: #800080; font-weight: bold\">tzutc</span><span style=\"font-weight: bold\">())</span>,\n",
       "    <span style=\"color: #008000; text-decoration-color: #008000\">'dataDeletionPolicy'</span>: <span style=\"color: #008000; text-decoration-color: #008000\">'DELETE'</span>,\n",
       "    <span style=\"color: #008000; text-decoration-color: #008000\">'dataSourceConfiguration'</span>: <span style=\"font-weight: bold\">{</span>\n",
       "        <span style=\"color: #008000; text-decoration-color: #008000\">'s3Configuration'</span>: <span style=\"font-weight: bold\">{</span><span style=\"color: #008000; text-decoration-color: #008000\">'bucketArn'</span>: <span style=\"color: #008000; text-decoration-color: #008000\">'arn:aws:s3:::bedrock-zenml-rag-docs'</span><span style=\"font-weight: bold\">}</span>,\n",
       "        <span style=\"color: #008000; text-decoration-color: #008000\">'type'</span>: <span style=\"color: #008000; text-decoration-color: #008000\">'S3'</span>\n",
       "    <span style=\"font-weight: bold\">}</span>,\n",
       "    <span style=\"color: #008000; text-decoration-color: #008000\">'dataSourceId'</span>: <span style=\"color: #008000; text-decoration-color: #008000\">'RLYHIBZJAQ'</span>,\n",
       "    <span style=\"color: #008000; text-decoration-color: #008000\">'description'</span>: <span style=\"color: #008000; text-decoration-color: #008000\">'Bedrock Knowledge Bases for Web URL and S3 Connector'</span>,\n",
       "    <span style=\"color: #008000; text-decoration-color: #008000\">'knowledgeBaseId'</span>: <span style=\"color: #008000; text-decoration-color: #008000\">'KQ7FPTPCSQ'</span>,\n",
       "    <span style=\"color: #008000; text-decoration-color: #008000\">'name'</span>: <span style=\"color: #008000; text-decoration-color: #008000\">'bedrock-sample-knowledge-base-504'</span>,\n",
       "    <span style=\"color: #008000; text-decoration-color: #008000\">'status'</span>: <span style=\"color: #008000; text-decoration-color: #008000\">'AVAILABLE'</span>,\n",
       "    <span style=\"color: #008000; text-decoration-color: #008000\">'updatedAt'</span>: <span style=\"color: #800080; text-decoration-color: #800080; font-weight: bold\">datetime.datetime</span><span style=\"font-weight: bold\">(</span><span style=\"color: #008080; text-decoration-color: #008080; font-weight: bold\">2024</span>, <span style=\"color: #008080; text-decoration-color: #008080; font-weight: bold\">8</span>, <span style=\"color: #008080; text-decoration-color: #008080; font-weight: bold\">23</span>, <span style=\"color: #008080; text-decoration-color: #008080; font-weight: bold\">13</span>, <span style=\"color: #008080; text-decoration-color: #008080; font-weight: bold\">34</span>, <span style=\"color: #008080; text-decoration-color: #008080; font-weight: bold\">55</span>, <span style=\"color: #008080; text-decoration-color: #008080; font-weight: bold\">213463</span>, <span style=\"color: #808000; text-decoration-color: #808000\">tzinfo</span>=<span style=\"color: #800080; text-decoration-color: #800080; font-weight: bold\">tzutc</span><span style=\"font-weight: bold\">())</span>,\n",
       "    <span style=\"color: #008000; text-decoration-color: #008000\">'vectorIngestionConfiguration'</span>: <span style=\"font-weight: bold\">{</span>\n",
       "        <span style=\"color: #008000; text-decoration-color: #008000\">'chunkingConfiguration'</span>: <span style=\"font-weight: bold\">{</span>\n",
       "            <span style=\"color: #008000; text-decoration-color: #008000\">'chunkingStrategy'</span>: <span style=\"color: #008000; text-decoration-color: #008000\">'FIXED_SIZE'</span>,\n",
       "            <span style=\"color: #008000; text-decoration-color: #008000\">'fixedSizeChunkingConfiguration'</span>: <span style=\"font-weight: bold\">{</span><span style=\"color: #008000; text-decoration-color: #008000\">'maxTokens'</span>: <span style=\"color: #008080; text-decoration-color: #008080; font-weight: bold\">512</span>, <span style=\"color: #008000; text-decoration-color: #008000\">'overlapPercentage'</span>: <span style=\"color: #008080; text-decoration-color: #008080; font-weight: bold\">20</span><span style=\"font-weight: bold\">}</span>\n",
       "        <span style=\"font-weight: bold\">}</span>\n",
       "    <span style=\"font-weight: bold\">}</span>\n",
       "<span style=\"font-weight: bold\">}</span>\n",
       "</pre>\n"
      ],
      "text/plain": [
       "\u001b[1m{\u001b[0m\n",
       "    \u001b[32m'createdAt'\u001b[0m: \u001b[1;35mdatetime.datetime\u001b[0m\u001b[1m(\u001b[0m\u001b[1;36m2024\u001b[0m, \u001b[1;36m8\u001b[0m, \u001b[1;36m23\u001b[0m, \u001b[1;36m13\u001b[0m, \u001b[1;36m34\u001b[0m, \u001b[1;36m55\u001b[0m, \u001b[1;36m213463\u001b[0m, \u001b[33mtzinfo\u001b[0m=\u001b[1;35mtzutc\u001b[0m\u001b[1m(\u001b[0m\u001b[1m)\u001b[0m\u001b[1m)\u001b[0m,\n",
       "    \u001b[32m'dataDeletionPolicy'\u001b[0m: \u001b[32m'DELETE'\u001b[0m,\n",
       "    \u001b[32m'dataSourceConfiguration'\u001b[0m: \u001b[1m{\u001b[0m\n",
       "        \u001b[32m's3Configuration'\u001b[0m: \u001b[1m{\u001b[0m\u001b[32m'bucketArn'\u001b[0m: \u001b[32m'arn:aws:s3:::bedrock-zenml-rag-docs'\u001b[0m\u001b[1m}\u001b[0m,\n",
       "        \u001b[32m'type'\u001b[0m: \u001b[32m'S3'\u001b[0m\n",
       "    \u001b[1m}\u001b[0m,\n",
       "    \u001b[32m'dataSourceId'\u001b[0m: \u001b[32m'RLYHIBZJAQ'\u001b[0m,\n",
       "    \u001b[32m'description'\u001b[0m: \u001b[32m'Bedrock Knowledge Bases for Web URL and S3 Connector'\u001b[0m,\n",
       "    \u001b[32m'knowledgeBaseId'\u001b[0m: \u001b[32m'KQ7FPTPCSQ'\u001b[0m,\n",
       "    \u001b[32m'name'\u001b[0m: \u001b[32m'bedrock-sample-knowledge-base-504'\u001b[0m,\n",
       "    \u001b[32m'status'\u001b[0m: \u001b[32m'AVAILABLE'\u001b[0m,\n",
       "    \u001b[32m'updatedAt'\u001b[0m: \u001b[1;35mdatetime.datetime\u001b[0m\u001b[1m(\u001b[0m\u001b[1;36m2024\u001b[0m, \u001b[1;36m8\u001b[0m, \u001b[1;36m23\u001b[0m, \u001b[1;36m13\u001b[0m, \u001b[1;36m34\u001b[0m, \u001b[1;36m55\u001b[0m, \u001b[1;36m213463\u001b[0m, \u001b[33mtzinfo\u001b[0m=\u001b[1;35mtzutc\u001b[0m\u001b[1m(\u001b[0m\u001b[1m)\u001b[0m\u001b[1m)\u001b[0m,\n",
       "    \u001b[32m'vectorIngestionConfiguration'\u001b[0m: \u001b[1m{\u001b[0m\n",
       "        \u001b[32m'chunkingConfiguration'\u001b[0m: \u001b[1m{\u001b[0m\n",
       "            \u001b[32m'chunkingStrategy'\u001b[0m: \u001b[32m'FIXED_SIZE'\u001b[0m,\n",
       "            \u001b[32m'fixedSizeChunkingConfiguration'\u001b[0m: \u001b[1m{\u001b[0m\u001b[32m'maxTokens'\u001b[0m: \u001b[1;36m512\u001b[0m, \u001b[32m'overlapPercentage'\u001b[0m: \u001b[1;36m20\u001b[0m\u001b[1m}\u001b[0m\n",
       "        \u001b[1m}\u001b[0m\n",
       "    \u001b[1m}\u001b[0m\n",
       "\u001b[1m}\u001b[0m\n"
      ]
     },
     "metadata": {},
     "output_type": "display_data"
    }
   ],
   "source": [
    "# Create a S3 DataSource in KnowledgeBase\n",
    "create_ds_response = bedrock_agent_client.create_data_source(\n",
    "    name=name,\n",
    "    description=description,\n",
    "    knowledgeBaseId=kb[\"knowledgeBaseId\"],\n",
    "    dataDeletionPolicy=\"DELETE\",\n",
    "    dataSourceConfiguration={\n",
    "        # # For S3\n",
    "        \"type\": \"S3\",\n",
    "        \"s3Configuration\": s3Configuration,\n",
    "        # # For Web URL\n",
    "        # \"type\": \"WEB\",\n",
    "        # \"webConfiguration\":webConfiguration\n",
    "    },\n",
    "    vectorIngestionConfiguration={\n",
    "        \"chunkingConfiguration\": chunkingStrategyConfiguration\n",
    "    },\n",
    ")\n",
    "\n",
    "ds = create_ds_response[\"dataSource\"]\n",
    "pp(ds)"
   ]
  },
  {
   "cell_type": "code",
   "execution_count": 26,
   "metadata": {},
   "outputs": [
    {
     "data": {
      "text/plain": [
       "{'ResponseMetadata': {'RequestId': 'cef0ee7e-8f5e-4538-8bbd-adbb3329cdc4',\n",
       "  'HTTPStatusCode': 200,\n",
       "  'HTTPHeaders': {'date': 'Fri, 23 Aug 2024 13:34:56 GMT',\n",
       "   'content-type': 'application/json',\n",
       "   'content-length': '603',\n",
       "   'connection': 'keep-alive',\n",
       "   'x-amzn-requestid': 'cef0ee7e-8f5e-4538-8bbd-adbb3329cdc4',\n",
       "   'x-amz-apigw-id': 'c9twHEWIIAMEbdQ=',\n",
       "   'x-amzn-trace-id': 'Root=1-66c89000-6b4bc8f04bcd51bd0430c00d'},\n",
       "  'RetryAttempts': 0},\n",
       " 'dataSource': {'createdAt': datetime.datetime(2024, 8, 23, 13, 34, 55, 213463, tzinfo=tzutc()),\n",
       "  'dataDeletionPolicy': 'DELETE',\n",
       "  'dataSourceConfiguration': {'s3Configuration': {'bucketArn': 'arn:aws:s3:::bedrock-zenml-rag-docs'},\n",
       "   'type': 'S3'},\n",
       "  'dataSourceId': 'RLYHIBZJAQ',\n",
       "  'description': 'Bedrock Knowledge Bases for Web URL and S3 Connector',\n",
       "  'knowledgeBaseId': 'KQ7FPTPCSQ',\n",
       "  'name': 'bedrock-sample-knowledge-base-504',\n",
       "  'status': 'AVAILABLE',\n",
       "  'updatedAt': datetime.datetime(2024, 8, 23, 13, 34, 55, 213463, tzinfo=tzutc()),\n",
       "  'vectorIngestionConfiguration': {'chunkingConfiguration': {'chunkingStrategy': 'FIXED_SIZE',\n",
       "    'fixedSizeChunkingConfiguration': {'maxTokens': 512,\n",
       "     'overlapPercentage': 20}}}}}"
      ]
     },
     "execution_count": 26,
     "metadata": {},
     "output_type": "execute_result"
    }
   ],
   "source": [
    "# get s3 datasource\n",
    "bedrock_agent_client.get_data_source(\n",
    "    knowledgeBaseId=kb[\"knowledgeBaseId\"], dataSourceId=ds[\"dataSourceId\"]\n",
    ")"
   ]
  },
  {
   "cell_type": "markdown",
   "metadata": {},
   "source": [
    "## Start ingestion job"
   ]
  },
  {
   "cell_type": "code",
   "execution_count": 27,
   "metadata": {},
   "outputs": [],
   "source": [
    "time.sleep(10)\n",
    "\n",
    "# Start an ingestion job\n",
    "start_job_response = bedrock_agent_client.start_ingestion_job(\n",
    "    knowledgeBaseId=kb[\"knowledgeBaseId\"], dataSourceId=ds[\"dataSourceId\"]\n",
    ")"
   ]
  },
  {
   "cell_type": "code",
   "execution_count": 28,
   "metadata": {},
   "outputs": [
    {
     "data": {
      "text/html": [
       "<pre style=\"white-space:pre;overflow-x:auto;line-height:normal;font-family:Menlo,'DejaVu Sans Mono',consolas,'Courier New',monospace\"><span style=\"font-weight: bold\">{</span>\n",
       "    <span style=\"color: #008000; text-decoration-color: #008000\">'dataSourceId'</span>: <span style=\"color: #008000; text-decoration-color: #008000\">'RLYHIBZJAQ'</span>,\n",
       "    <span style=\"color: #008000; text-decoration-color: #008000\">'ingestionJobId'</span>: <span style=\"color: #008000; text-decoration-color: #008000\">'D1HKFRB4NS'</span>,\n",
       "    <span style=\"color: #008000; text-decoration-color: #008000\">'knowledgeBaseId'</span>: <span style=\"color: #008000; text-decoration-color: #008000\">'KQ7FPTPCSQ'</span>,\n",
       "    <span style=\"color: #008000; text-decoration-color: #008000\">'startedAt'</span>: <span style=\"color: #800080; text-decoration-color: #800080; font-weight: bold\">datetime.datetime</span><span style=\"font-weight: bold\">(</span><span style=\"color: #008080; text-decoration-color: #008080; font-weight: bold\">2024</span>, <span style=\"color: #008080; text-decoration-color: #008080; font-weight: bold\">8</span>, <span style=\"color: #008080; text-decoration-color: #008080; font-weight: bold\">23</span>, <span style=\"color: #008080; text-decoration-color: #008080; font-weight: bold\">13</span>, <span style=\"color: #008080; text-decoration-color: #008080; font-weight: bold\">35</span>, <span style=\"color: #008080; text-decoration-color: #008080; font-weight: bold\">9</span>, <span style=\"color: #008080; text-decoration-color: #008080; font-weight: bold\">291668</span>, <span style=\"color: #808000; text-decoration-color: #808000\">tzinfo</span>=<span style=\"color: #800080; text-decoration-color: #800080; font-weight: bold\">tzutc</span><span style=\"font-weight: bold\">())</span>,\n",
       "    <span style=\"color: #008000; text-decoration-color: #008000\">'statistics'</span>: <span style=\"font-weight: bold\">{</span>\n",
       "        <span style=\"color: #008000; text-decoration-color: #008000\">'numberOfDocumentsDeleted'</span>: <span style=\"color: #008080; text-decoration-color: #008080; font-weight: bold\">0</span>,\n",
       "        <span style=\"color: #008000; text-decoration-color: #008000\">'numberOfDocumentsFailed'</span>: <span style=\"color: #008080; text-decoration-color: #008080; font-weight: bold\">0</span>,\n",
       "        <span style=\"color: #008000; text-decoration-color: #008000\">'numberOfDocumentsScanned'</span>: <span style=\"color: #008080; text-decoration-color: #008080; font-weight: bold\">0</span>,\n",
       "        <span style=\"color: #008000; text-decoration-color: #008000\">'numberOfMetadataDocumentsModified'</span>: <span style=\"color: #008080; text-decoration-color: #008080; font-weight: bold\">0</span>,\n",
       "        <span style=\"color: #008000; text-decoration-color: #008000\">'numberOfMetadataDocumentsScanned'</span>: <span style=\"color: #008080; text-decoration-color: #008080; font-weight: bold\">0</span>,\n",
       "        <span style=\"color: #008000; text-decoration-color: #008000\">'numberOfModifiedDocumentsIndexed'</span>: <span style=\"color: #008080; text-decoration-color: #008080; font-weight: bold\">0</span>,\n",
       "        <span style=\"color: #008000; text-decoration-color: #008000\">'numberOfNewDocumentsIndexed'</span>: <span style=\"color: #008080; text-decoration-color: #008080; font-weight: bold\">0</span>\n",
       "    <span style=\"font-weight: bold\">}</span>,\n",
       "    <span style=\"color: #008000; text-decoration-color: #008000\">'status'</span>: <span style=\"color: #008000; text-decoration-color: #008000\">'STARTING'</span>,\n",
       "    <span style=\"color: #008000; text-decoration-color: #008000\">'updatedAt'</span>: <span style=\"color: #800080; text-decoration-color: #800080; font-weight: bold\">datetime.datetime</span><span style=\"font-weight: bold\">(</span><span style=\"color: #008080; text-decoration-color: #008080; font-weight: bold\">2024</span>, <span style=\"color: #008080; text-decoration-color: #008080; font-weight: bold\">8</span>, <span style=\"color: #008080; text-decoration-color: #008080; font-weight: bold\">23</span>, <span style=\"color: #008080; text-decoration-color: #008080; font-weight: bold\">13</span>, <span style=\"color: #008080; text-decoration-color: #008080; font-weight: bold\">35</span>, <span style=\"color: #008080; text-decoration-color: #008080; font-weight: bold\">9</span>, <span style=\"color: #008080; text-decoration-color: #008080; font-weight: bold\">291668</span>, <span style=\"color: #808000; text-decoration-color: #808000\">tzinfo</span>=<span style=\"color: #800080; text-decoration-color: #800080; font-weight: bold\">tzutc</span><span style=\"font-weight: bold\">())</span>\n",
       "<span style=\"font-weight: bold\">}</span>\n",
       "</pre>\n"
      ],
      "text/plain": [
       "\u001b[1m{\u001b[0m\n",
       "    \u001b[32m'dataSourceId'\u001b[0m: \u001b[32m'RLYHIBZJAQ'\u001b[0m,\n",
       "    \u001b[32m'ingestionJobId'\u001b[0m: \u001b[32m'D1HKFRB4NS'\u001b[0m,\n",
       "    \u001b[32m'knowledgeBaseId'\u001b[0m: \u001b[32m'KQ7FPTPCSQ'\u001b[0m,\n",
       "    \u001b[32m'startedAt'\u001b[0m: \u001b[1;35mdatetime.datetime\u001b[0m\u001b[1m(\u001b[0m\u001b[1;36m2024\u001b[0m, \u001b[1;36m8\u001b[0m, \u001b[1;36m23\u001b[0m, \u001b[1;36m13\u001b[0m, \u001b[1;36m35\u001b[0m, \u001b[1;36m9\u001b[0m, \u001b[1;36m291668\u001b[0m, \u001b[33mtzinfo\u001b[0m=\u001b[1;35mtzutc\u001b[0m\u001b[1m(\u001b[0m\u001b[1m)\u001b[0m\u001b[1m)\u001b[0m,\n",
       "    \u001b[32m'statistics'\u001b[0m: \u001b[1m{\u001b[0m\n",
       "        \u001b[32m'numberOfDocumentsDeleted'\u001b[0m: \u001b[1;36m0\u001b[0m,\n",
       "        \u001b[32m'numberOfDocumentsFailed'\u001b[0m: \u001b[1;36m0\u001b[0m,\n",
       "        \u001b[32m'numberOfDocumentsScanned'\u001b[0m: \u001b[1;36m0\u001b[0m,\n",
       "        \u001b[32m'numberOfMetadataDocumentsModified'\u001b[0m: \u001b[1;36m0\u001b[0m,\n",
       "        \u001b[32m'numberOfMetadataDocumentsScanned'\u001b[0m: \u001b[1;36m0\u001b[0m,\n",
       "        \u001b[32m'numberOfModifiedDocumentsIndexed'\u001b[0m: \u001b[1;36m0\u001b[0m,\n",
       "        \u001b[32m'numberOfNewDocumentsIndexed'\u001b[0m: \u001b[1;36m0\u001b[0m\n",
       "    \u001b[1m}\u001b[0m,\n",
       "    \u001b[32m'status'\u001b[0m: \u001b[32m'STARTING'\u001b[0m,\n",
       "    \u001b[32m'updatedAt'\u001b[0m: \u001b[1;35mdatetime.datetime\u001b[0m\u001b[1m(\u001b[0m\u001b[1;36m2024\u001b[0m, \u001b[1;36m8\u001b[0m, \u001b[1;36m23\u001b[0m, \u001b[1;36m13\u001b[0m, \u001b[1;36m35\u001b[0m, \u001b[1;36m9\u001b[0m, \u001b[1;36m291668\u001b[0m, \u001b[33mtzinfo\u001b[0m=\u001b[1;35mtzutc\u001b[0m\u001b[1m(\u001b[0m\u001b[1m)\u001b[0m\u001b[1m)\u001b[0m\n",
       "\u001b[1m}\u001b[0m\n"
      ]
     },
     "metadata": {},
     "output_type": "display_data"
    }
   ],
   "source": [
    "job = start_job_response[\"ingestionJob\"]\n",
    "pp(job)"
   ]
  },
  {
   "cell_type": "code",
   "execution_count": 29,
   "metadata": {},
   "outputs": [
    {
     "data": {
      "text/plain": [
       "{'dataSourceId': 'RLYHIBZJAQ',\n",
       " 'ingestionJobId': 'D1HKFRB4NS',\n",
       " 'knowledgeBaseId': 'KQ7FPTPCSQ',\n",
       " 'startedAt': datetime.datetime(2024, 8, 23, 13, 35, 9, 291668, tzinfo=tzutc()),\n",
       " 'statistics': {'numberOfDocumentsDeleted': 0,\n",
       "  'numberOfDocumentsFailed': 0,\n",
       "  'numberOfDocumentsScanned': 0,\n",
       "  'numberOfMetadataDocumentsModified': 0,\n",
       "  'numberOfMetadataDocumentsScanned': 0,\n",
       "  'numberOfModifiedDocumentsIndexed': 0,\n",
       "  'numberOfNewDocumentsIndexed': 0},\n",
       " 'status': 'STARTING',\n",
       " 'updatedAt': datetime.datetime(2024, 8, 23, 13, 35, 9, 291668, tzinfo=tzutc())}"
      ]
     },
     "execution_count": 29,
     "metadata": {},
     "output_type": "execute_result"
    }
   ],
   "source": [
    "job"
   ]
  },
  {
   "cell_type": "code",
   "execution_count": 30,
   "metadata": {},
   "outputs": [
    {
     "data": {
      "text/html": [
       "<pre style=\"white-space:pre;overflow-x:auto;line-height:normal;font-family:Menlo,'DejaVu Sans Mono',consolas,'Courier New',monospace\"><span style=\"font-weight: bold\">{</span>\n",
       "    <span style=\"color: #008000; text-decoration-color: #008000\">'dataSourceId'</span>: <span style=\"color: #008000; text-decoration-color: #008000\">'RLYHIBZJAQ'</span>,\n",
       "    <span style=\"color: #008000; text-decoration-color: #008000\">'ingestionJobId'</span>: <span style=\"color: #008000; text-decoration-color: #008000\">'D1HKFRB4NS'</span>,\n",
       "    <span style=\"color: #008000; text-decoration-color: #008000\">'knowledgeBaseId'</span>: <span style=\"color: #008000; text-decoration-color: #008000\">'KQ7FPTPCSQ'</span>,\n",
       "    <span style=\"color: #008000; text-decoration-color: #008000\">'startedAt'</span>: <span style=\"color: #800080; text-decoration-color: #800080; font-weight: bold\">datetime.datetime</span><span style=\"font-weight: bold\">(</span><span style=\"color: #008080; text-decoration-color: #008080; font-weight: bold\">2024</span>, <span style=\"color: #008080; text-decoration-color: #008080; font-weight: bold\">8</span>, <span style=\"color: #008080; text-decoration-color: #008080; font-weight: bold\">23</span>, <span style=\"color: #008080; text-decoration-color: #008080; font-weight: bold\">13</span>, <span style=\"color: #008080; text-decoration-color: #008080; font-weight: bold\">35</span>, <span style=\"color: #008080; text-decoration-color: #008080; font-weight: bold\">9</span>, <span style=\"color: #008080; text-decoration-color: #008080; font-weight: bold\">291668</span>, <span style=\"color: #808000; text-decoration-color: #808000\">tzinfo</span>=<span style=\"color: #800080; text-decoration-color: #800080; font-weight: bold\">tzutc</span><span style=\"font-weight: bold\">())</span>,\n",
       "    <span style=\"color: #008000; text-decoration-color: #008000\">'statistics'</span>: <span style=\"font-weight: bold\">{</span>\n",
       "        <span style=\"color: #008000; text-decoration-color: #008000\">'numberOfDocumentsDeleted'</span>: <span style=\"color: #008080; text-decoration-color: #008080; font-weight: bold\">0</span>,\n",
       "        <span style=\"color: #008000; text-decoration-color: #008000\">'numberOfDocumentsFailed'</span>: <span style=\"color: #008080; text-decoration-color: #008080; font-weight: bold\">0</span>,\n",
       "        <span style=\"color: #008000; text-decoration-color: #008000\">'numberOfDocumentsScanned'</span>: <span style=\"color: #008080; text-decoration-color: #008080; font-weight: bold\">282</span>,\n",
       "        <span style=\"color: #008000; text-decoration-color: #008000\">'numberOfMetadataDocumentsModified'</span>: <span style=\"color: #008080; text-decoration-color: #008080; font-weight: bold\">0</span>,\n",
       "        <span style=\"color: #008000; text-decoration-color: #008000\">'numberOfMetadataDocumentsScanned'</span>: <span style=\"color: #008080; text-decoration-color: #008080; font-weight: bold\">0</span>,\n",
       "        <span style=\"color: #008000; text-decoration-color: #008000\">'numberOfModifiedDocumentsIndexed'</span>: <span style=\"color: #008080; text-decoration-color: #008080; font-weight: bold\">0</span>,\n",
       "        <span style=\"color: #008000; text-decoration-color: #008000\">'numberOfNewDocumentsIndexed'</span>: <span style=\"color: #008080; text-decoration-color: #008080; font-weight: bold\">282</span>\n",
       "    <span style=\"font-weight: bold\">}</span>,\n",
       "    <span style=\"color: #008000; text-decoration-color: #008000\">'status'</span>: <span style=\"color: #008000; text-decoration-color: #008000\">'COMPLETE'</span>,\n",
       "    <span style=\"color: #008000; text-decoration-color: #008000\">'updatedAt'</span>: <span style=\"color: #800080; text-decoration-color: #800080; font-weight: bold\">datetime.datetime</span><span style=\"font-weight: bold\">(</span><span style=\"color: #008080; text-decoration-color: #008080; font-weight: bold\">2024</span>, <span style=\"color: #008080; text-decoration-color: #008080; font-weight: bold\">8</span>, <span style=\"color: #008080; text-decoration-color: #008080; font-weight: bold\">23</span>, <span style=\"color: #008080; text-decoration-color: #008080; font-weight: bold\">13</span>, <span style=\"color: #008080; text-decoration-color: #008080; font-weight: bold\">37</span>, <span style=\"color: #008080; text-decoration-color: #008080; font-weight: bold\">8</span>, <span style=\"color: #008080; text-decoration-color: #008080; font-weight: bold\">981081</span>, <span style=\"color: #808000; text-decoration-color: #808000\">tzinfo</span>=<span style=\"color: #800080; text-decoration-color: #800080; font-weight: bold\">tzutc</span><span style=\"font-weight: bold\">())</span>\n",
       "<span style=\"font-weight: bold\">}</span>\n",
       "</pre>\n"
      ],
      "text/plain": [
       "\u001b[1m{\u001b[0m\n",
       "    \u001b[32m'dataSourceId'\u001b[0m: \u001b[32m'RLYHIBZJAQ'\u001b[0m,\n",
       "    \u001b[32m'ingestionJobId'\u001b[0m: \u001b[32m'D1HKFRB4NS'\u001b[0m,\n",
       "    \u001b[32m'knowledgeBaseId'\u001b[0m: \u001b[32m'KQ7FPTPCSQ'\u001b[0m,\n",
       "    \u001b[32m'startedAt'\u001b[0m: \u001b[1;35mdatetime.datetime\u001b[0m\u001b[1m(\u001b[0m\u001b[1;36m2024\u001b[0m, \u001b[1;36m8\u001b[0m, \u001b[1;36m23\u001b[0m, \u001b[1;36m13\u001b[0m, \u001b[1;36m35\u001b[0m, \u001b[1;36m9\u001b[0m, \u001b[1;36m291668\u001b[0m, \u001b[33mtzinfo\u001b[0m=\u001b[1;35mtzutc\u001b[0m\u001b[1m(\u001b[0m\u001b[1m)\u001b[0m\u001b[1m)\u001b[0m,\n",
       "    \u001b[32m'statistics'\u001b[0m: \u001b[1m{\u001b[0m\n",
       "        \u001b[32m'numberOfDocumentsDeleted'\u001b[0m: \u001b[1;36m0\u001b[0m,\n",
       "        \u001b[32m'numberOfDocumentsFailed'\u001b[0m: \u001b[1;36m0\u001b[0m,\n",
       "        \u001b[32m'numberOfDocumentsScanned'\u001b[0m: \u001b[1;36m282\u001b[0m,\n",
       "        \u001b[32m'numberOfMetadataDocumentsModified'\u001b[0m: \u001b[1;36m0\u001b[0m,\n",
       "        \u001b[32m'numberOfMetadataDocumentsScanned'\u001b[0m: \u001b[1;36m0\u001b[0m,\n",
       "        \u001b[32m'numberOfModifiedDocumentsIndexed'\u001b[0m: \u001b[1;36m0\u001b[0m,\n",
       "        \u001b[32m'numberOfNewDocumentsIndexed'\u001b[0m: \u001b[1;36m282\u001b[0m\n",
       "    \u001b[1m}\u001b[0m,\n",
       "    \u001b[32m'status'\u001b[0m: \u001b[32m'COMPLETE'\u001b[0m,\n",
       "    \u001b[32m'updatedAt'\u001b[0m: \u001b[1;35mdatetime.datetime\u001b[0m\u001b[1m(\u001b[0m\u001b[1;36m2024\u001b[0m, \u001b[1;36m8\u001b[0m, \u001b[1;36m23\u001b[0m, \u001b[1;36m13\u001b[0m, \u001b[1;36m37\u001b[0m, \u001b[1;36m8\u001b[0m, \u001b[1;36m981081\u001b[0m, \u001b[33mtzinfo\u001b[0m=\u001b[1;35mtzutc\u001b[0m\u001b[1m(\u001b[0m\u001b[1m)\u001b[0m\u001b[1m)\u001b[0m\n",
       "\u001b[1m}\u001b[0m\n"
      ]
     },
     "metadata": {},
     "output_type": "display_data"
    }
   ],
   "source": [
    "# Get job\n",
    "while job[\"status\"] != \"COMPLETE\":\n",
    "    get_job_response = bedrock_agent_client.get_ingestion_job(\n",
    "        knowledgeBaseId=kb[\"knowledgeBaseId\"],\n",
    "        dataSourceId=ds[\"dataSourceId\"],\n",
    "        ingestionJobId=job[\"ingestionJobId\"],\n",
    "    )\n",
    "    job = get_job_response[\"ingestionJob\"]\n",
    "\n",
    "pp(job)\n",
    "\n",
    "# time.sleep(40)"
   ]
  },
  {
   "cell_type": "code",
   "execution_count": 31,
   "metadata": {},
   "outputs": [
    {
     "name": "stdout",
     "output_type": "stream",
     "text": [
      "KQ7FPTPCSQ\n"
     ]
    }
   ],
   "source": [
    "kb_id = kb[\"knowledgeBaseId\"]\n",
    "print(kb_id)"
   ]
  },
  {
   "cell_type": "markdown",
   "metadata": {},
   "source": [
    "## Test the Knowledge Base"
   ]
  },
  {
   "cell_type": "code",
   "execution_count": 32,
   "metadata": {},
   "outputs": [],
   "source": [
    "# try out KB using RetrieveAndGenerate API\n",
    "# model_id = \"anthropic.claude-3-sonnet-20240229-v1:0\"  # <Change it to any model of your choice which is supported by KB>\n",
    "model_id = \"anthropic.claude-3-haiku-20240307-v1:0\"\n",
    "model_arn = f\"arn:aws:bedrock:us-east-1::foundation-model/{model_id}\""
   ]
  },
  {
   "cell_type": "markdown",
   "metadata": {},
   "source": [
    "### Use the RetrieveAndGenerate API"
   ]
  },
  {
   "cell_type": "code",
   "execution_count": 33,
   "metadata": {},
   "outputs": [
    {
     "name": "stdout",
     "output_type": "stream",
     "text": [
      "ZenML supports a variety of orchestrators out-of-the-box, including:\n",
      "- LocalOrchestrator (runs pipelines locally)\n",
      "- LocalDockerOrchestrator (runs pipelines locally using Docker)\n",
      "- KubernetesOrchestrator (runs pipelines in Kubernetes clusters)\n",
      "- KubeflowOrchestrator (runs pipelines using Kubeflow)\n",
      "- VertexOrchestrator (runs pipelines in Vertex AI)\n",
      "- SagemakerOrchestrator (runs pipelines in Sagemaker)\n",
      "- AzureMLOrchestrator (runs pipelines in AzureML)\n",
      "- TektonOrchestrator (runs pipelines using Tekton)\n",
      "- AirflowOrchestrator (runs pipelines using Airflow)\n",
      "- SkypilotAWSOrchestrator, SkypilotGCPOrchestrator, SkypilotAzureOrchestrator (runs pipelines in VMs using SkyPilot)\n",
      "- HyperAIOrchestrator (runs pipelines in HyperAI.ai instances)\n"
     ]
    }
   ],
   "source": [
    "query = \"What orchestrators does ZenML support?\"\n",
    "response = bedrock_agent_runtime_client.retrieve_and_generate(\n",
    "    input={\"text\": query},\n",
    "    retrieveAndGenerateConfiguration={\n",
    "        \"type\": \"KNOWLEDGE_BASE\",\n",
    "        \"knowledgeBaseConfiguration\": {\n",
    "            \"knowledgeBaseId\": kb_id,\n",
    "            \"modelArn\": model_arn,\n",
    "        },\n",
    "    },\n",
    ")\n",
    "\n",
    "generated_text = response[\"output\"][\"text\"]\n",
    "\n",
    "print(generated_text)"
   ]
  },
  {
   "cell_type": "markdown",
   "metadata": {},
   "source": [
    "### Print out the Source Attributions"
   ]
  },
  {
   "cell_type": "code",
   "execution_count": 37,
   "metadata": {},
   "outputs": [
    {
     "name": "stdout",
     "output_type": "stream",
     "text": [
      "---\n",
      "description: Orchestrating the execution of ML pipelines.\n",
      "---\n",
      "# Orchestrators\n",
      "The orchestrator is an essential component in any MLOps stack as it is responsible for running your machine learning\n",
      "pipelines. To do so, the orchestrator provides an environment that is set up to execute the steps of your pipeline. It\n",
      "also makes sure that the steps of your pipeline only get executed once all their inputs (which are outputs of previous\n",
      "steps of your pipeline) are available.\n",
      "{% hint style=\"info\" %}\n",
      "Many of ZenML's remote orchestrators build [Docker](https://www.docker.com/) images in order to transport and execute\n",
      "your pipeline code. If you want to learn more about how Docker images are built by ZenML, check\n",
      "out [this guide](../../how-to/customize-docker-builds/README.md).\n",
      "{% endhint %}\n",
      "### When to use it\n",
      "The orchestrator is a mandatory component in the ZenML stack. It is used to store all artifacts produced by pipeline\n",
      "runs, and you are required to configure it in all of your stacks.\n",
      "### Orchestrator Flavors\n",
      "Out of the box, ZenML comes with a `local` orchestrator already part of the default stack that runs pipelines locally.\n",
      "Additional orchestrators are provided by integrations:\n",
      "| Orchestrator | Flavor | Integration | Notes |\n",
      "|-|-|-|-|\n",
      "| [LocalOrchestrator](local.md) | `local` | _built-in_ | Runs your pipelines locally. |\n",
      "| [LocalDockerOrchestrator](local-docker.md) | `local_docker` | _built-in_ | Runs your pipelines locally using Docker. |\n",
      "| [KubernetesOrchestrator](kubernetes.md) | `kubernetes` | `kubernetes` | Runs your pipelines in Kubernetes clusters. |\n",
      "| [KubeflowOrchestrator](kubeflow.md) | `kubeflow` | `kubeflow` | Runs your pipelines using Kubeflow. |\n",
      "| [VertexOrchestrator](vertex.md) | `vertex` | `gcp` | Runs your pipelines in Vertex AI. |\n",
      "| [SagemakerOrchestrator](sagemaker.md) | `sagemaker` | `aws` | Runs your pipelines in Sagemaker. |\n",
      "| [AzureMLOrchestrator](azureml.md) | `azureml` | `azure` | Runs your pipelines in AzureML. |\n",
      "| [TektonOrchestrator](tekton.md) | `tekton` | `tekton` | Runs your pipelines using Tekton. |\n",
      "| [AirflowOrchestrator](airflow.md) | `airflow` | `airflow` | Runs your pipelines using Airflow. |\n",
      "| [SkypilotAWSOrchestrator](skypilot-vm.md) | `vm_aws` | `skypilot[aws]` | Runs your pipelines in AWS VMs using SkyPilot |\n",
      "| [SkypilotGCPOrchestrator](skypilot-vm.md) | `vm_gcp` | `skypilot[gcp]` | Runs your pipelines in GCP VMs using SkyPilot |\n",
      "| [SkypilotAzureOrchestrator](skypilot-vm.md) | `vm_azure` | `skypilot[azure]` | Runs your pipelines in Azure VMs using SkyPilot |\n",
      "| [HyperAIOrchestrator](hyperai.md) | `hyperai` | `hyperai` | Runs your pipeline in HyperAI.ai instances. |\n",
      "| [Custom Implementation](custom.md) | _custom_ | | Extend the orchestrator abstraction and provide your own implementation |\n",
      "If you would like to see the available flavors of orchestrators, you can use the command:\n",
      "```shell\n",
      "zenml orchestrator flavor list\n",
      "```\n",
      "### How to use it\n",
      "You don't need to directly interact with any ZenML orchestrator in your code. As long as the orchestrator that you want\n",
      "to use is part of your active [ZenML stack](/docs/book/user-guide/production-guide/understand-stacks.md), using the\n",
      "orchestrator is as simple as executing a Python file\n",
      "that [runs a ZenML pipeline](/docs/book/user-guide/starter-guide/starter-guide.md):\n",
      "```shell\n",
      "python file_that_runs_a_zenml_pipeline.py\n",
      "```\n",
      "#### Inspecting Runs in the Orchestrator UI\n",
      "If your orchestrator comes with a separate user interface (for example Kubeflow, Airflow, Vertex), you can get the URL\n",
      "to the orchestrator UI of a specific pipeline run using the following code snippet:\n",
      "```python\n",
      "from zenml.client import Client\n",
      "pipeline_run = Client().get_pipeline_run(\"<PIPELINE_RUN_NAME>\")\n",
      "orchestrator_url = pipeline_run.run_metadata[\"orchestrator_url\"].value\n",
      "```\n",
      "#### Specifying per-step resources\n",
      "If your steps require the orchestrator to execute them on specific hardware, you can specify them on your steps\n",
      "as described [here](../../how-to/use-configuration-files/runtime-configuration.md).\n",
      "If your orchestrator of choice or the underlying hardware doesn't support this, you can also take a look\n",
      "at [step operators](../step-operators/step-operators.md).\n",
      "<!-- For scarf -->\n",
      "<figure><img alt=\"ZenML Scarf\" referrerpolicy=\"no-referrer-when-downgrade\" src=\"https://static.scarf.sh/a.png?x-pxid=f0b4f458-0a54-4fcd-aa95-d5ee424815bc\" /></figure>\n",
      "\n"
     ]
    }
   ],
   "source": [
    "## print out the source attribution/citations from the original documents to see if the response generated belongs to the context.\n",
    "citations = response[\"citations\"]\n",
    "contexts = []\n",
    "for citation in citations:\n",
    "    retrievedReferences = citation[\"retrievedReferences\"]\n",
    "    for reference in retrievedReferences:\n",
    "        contexts.append(reference[\"content\"][\"text\"])\n",
    "\n",
    "print(contexts[0])"
   ]
  },
  {
   "cell_type": "markdown",
   "metadata": {},
   "source": [
    "## Use the Retrieve API"
   ]
  },
  {
   "cell_type": "code",
   "execution_count": 38,
   "metadata": {},
   "outputs": [],
   "source": [
    "# retrieve api for fetching only the relevant context.\n",
    "# query = \"How many new positions were opened across Amazon's fulfillment and delivery network?\"\n",
    "\n",
    "relevant_documents = bedrock_agent_runtime_client.retrieve(\n",
    "    retrievalQuery= {\n",
    "        'text': query\n",
    "    },\n",
    "    knowledgeBaseId=kb_id,\n",
    "    retrievalConfiguration= {\n",
    "        'vectorSearchConfiguration': {\n",
    "            'numberOfResults': 3 # will fetch top 3 documents which matches closely with the query.\n",
    "        }\n",
    "    }\n",
    ")"
   ]
  },
  {
   "cell_type": "code",
   "execution_count": 42,
   "metadata": {},
   "outputs": [
    {
     "name": "stdout",
     "output_type": "stream",
     "text": [
      "--- description: Find answers to the most frequently asked questions about ZenML. --- # ❓ FAQ #### Why did you build ZenML? We built it because we scratched our own itch while deploying multiple machine-learning models in production over the past three years. Our team struggled to find a simple yet production-ready solution whilst developing large-scale ML pipelines. We built a solution for it that we are now proud to share with all of you! Read more about this backstory [on our blog here](https://blog.zenml.io/why-zenml/). #### Is ZenML just another orchestrator like Airflow, Kubeflow, Flyte, etc? Not really! An orchestrator in MLOps is the system component that is responsible for executing and managing the execution of an ML pipeline. ZenML is a framework that allows you to run your pipelines on whatever orchestrator you like, and we coordinate with all the other parts of an ML system in production. There are [standard orchestrators](../component-guide/orchestrators/orchestrators.md) that ZenML supports out-of-the-box, but you are encouraged to [write your own orchestrator](../component-guide/orchestrators/custom.md) in order to gain more control as to exactly how your pipelines are executed! #### Can I use the tool `X`? How does the tool `Y` integrate with ZenML? Take a look at our [documentation](https://docs.zenml.io) (in particular the [component guide](../component-guide/README.md)), which contains instructions and sample code to support each integration that ZenML supports out-of-the-box. You can also check out [our integration test code](https://github.com/zenml-io/zenml/tree/main/tests/integration/examples) to see active examples of many of our integrations in action. The ZenML team and community are constantly working to include more tools and integrations to the above list (check out the [roadmap](https://zenml.io/roadmap) for more details). You can [upvote features](https://zenml.io/discussion) you'd like and add your ideas to the roadmap. Most importantly, ZenML is extensible, and we encourage you to use it with whatever other tools you require as part of your ML process and system(s). Check out [our documentation on how to get started](../introduction.md) with extending ZenML to learn more! #### Do you support Windows?\n",
      "---\n",
      "description: Orchestrating the execution of ML pipelines.\n",
      "---\n",
      "# Orchestrators\n",
      "The orchestrator is an essential component in any MLOps stack as it is responsible for running your machine learning\n",
      "pipelines. To do so, the orchestrator provides an environment that is set up to execute the steps of your pipeline. It\n",
      "also makes sure that the steps of your pipeline only get executed once all their inputs (which are outputs of previous\n",
      "steps of your pipeline) are available.\n",
      "{% hint style=\"info\" %}\n",
      "Many of ZenML's remote orchestrators build [Docker](https://www.docker.com/) images in order to transport and execute\n",
      "your pipeline code. If you want to learn more about how Docker images are built by ZenML, check\n",
      "out [this guide](../../how-to/customize-docker-builds/README.md).\n",
      "{% endhint %}\n",
      "### When to use it\n",
      "The orchestrator is a mandatory component in the ZenML stack. It is used to store all artifacts produced by pipeline\n",
      "runs, and you are required to configure it in all of your stacks.\n",
      "### Orchestrator Flavors\n",
      "Out of the box, ZenML comes with a `local` orchestrator already part of the default stack that runs pipelines locally.\n",
      "Additional orchestrators are provided by integrations:\n",
      "| Orchestrator | Flavor | Integration | Notes |\n",
      "|-|-|-|-|\n",
      "| [LocalOrchestrator](local.md) | `local` | _built-in_ | Runs your pipelines locally. |\n",
      "| [LocalDockerOrchestrator](local-docker.md) | `local_docker` | _built-in_ | Runs your pipelines locally using Docker. |\n",
      "| [KubernetesOrchestrator](kubernetes.md) | `kubernetes` | `kubernetes` | Runs your pipelines in Kubernetes clusters. |\n",
      "| [KubeflowOrchestrator](kubeflow.md) | `kubeflow` | `kubeflow` | Runs your pipelines using Kubeflow. |\n",
      "| [VertexOrchestrator](vertex.md) | `vertex` | `gcp` | Runs your pipelines in Vertex AI. |\n",
      "| [SagemakerOrchestrator](sagemaker.md) | `sagemaker` | `aws` | Runs your pipelines in Sagemaker. |\n",
      "| [AzureMLOrchestrator](azureml.md) | `azureml` | `azure` | Runs your pipelines in AzureML. |\n",
      "| [TektonOrchestrator](tekton.md) | `tekton` | `tekton` | Runs your pipelines using Tekton. |\n",
      "| [AirflowOrchestrator](airflow.md) | `airflow` | `airflow` | Runs your pipelines using Airflow. |\n",
      "| [SkypilotAWSOrchestrator](skypilot-vm.md) | `vm_aws` | `skypilot[aws]` | Runs your pipelines in AWS VMs using SkyPilot |\n",
      "| [SkypilotGCPOrchestrator](skypilot-vm.md) | `vm_gcp` | `skypilot[gcp]` | Runs your pipelines in GCP VMs using SkyPilot |\n",
      "| [SkypilotAzureOrchestrator](skypilot-vm.md) | `vm_azure` | `skypilot[azure]` | Runs your pipelines in Azure VMs using SkyPilot |\n",
      "| [HyperAIOrchestrator](hyperai.md) | `hyperai` | `hyperai` | Runs your pipeline in HyperAI.ai instances. |\n",
      "| [Custom Implementation](custom.md) | _custom_ | | Extend the orchestrator abstraction and provide your own implementation |\n",
      "If you would like to see the available flavors of orchestrators, you can use the command:\n",
      "```shell\n",
      "zenml orchestrator flavor list\n",
      "```\n",
      "### How to use it\n",
      "You don't need to directly interact with any ZenML orchestrator in your code. As long as the orchestrator that you want\n",
      "to use is part of your active [ZenML stack](/docs/book/user-guide/production-guide/understand-stacks.md), using the\n",
      "orchestrator is as simple as executing a Python file\n",
      "that [runs a ZenML pipeline](/docs/book/user-guide/starter-guide/starter-guide.md):\n",
      "```shell\n",
      "python file_that_runs_a_zenml_pipeline.py\n",
      "```\n",
      "#### Inspecting Runs in the Orchestrator UI\n",
      "If your orchestrator comes with a separate user interface (for example Kubeflow, Airflow, Vertex), you can get the URL\n",
      "to the orchestrator UI of a specific pipeline run using the following code snippet:\n",
      "```python\n",
      "from zenml.client import Client\n",
      "pipeline_run = Client().get_pipeline_run(\"<PIPELINE_RUN_NAME>\")\n",
      "orchestrator_url = pipeline_run.run_metadata[\"orchestrator_url\"].value\n",
      "```\n",
      "#### Specifying per-step resources\n",
      "If your steps require the orchestrator to execute them on specific hardware, you can specify them on your steps\n",
      "as described [here](../../how-to/use-configuration-files/runtime-configuration.md).\n",
      "If your orchestrator of choice or the underlying hardware doesn't support this, you can also take a look\n",
      "at [step operators](../step-operators/step-operators.md).\n",
      "<!-- For scarf -->\n",
      "<figure><img alt=\"ZenML Scarf\" referrerpolicy=\"no-referrer-when-downgrade\" src=\"https://static.scarf.sh/a.png?x-pxid=f0b4f458-0a54-4fcd-aa95-d5ee424815bc\" /></figure>\n",
      "\n"
     ]
    }
   ],
   "source": [
    "# print(relevant_documents[\"retrievalResults\"])\n",
    "\n",
    "for doc in relevant_documents[\"retrievalResults\"]:\n",
    "    print(doc[\"content\"][\"text\"])"
   ]
  },
  {
   "cell_type": "markdown",
   "metadata": {},
   "source": [
    "# Clean Up"
   ]
  },
  {
   "cell_type": "code",
   "execution_count": null,
   "metadata": {},
   "outputs": [],
   "source": [
    "# # Delete KnowledgeBase\n",
    "# bedrock_agent_client.delete_data_source(\n",
    "#     dataSourceId=ds[\"dataSourceId\"], knowledgeBaseId=kb[\"knowledgeBaseId\"]\n",
    "# )\n",
    "# bedrock_agent_client.delete_knowledge_base(\n",
    "#     knowledgeBaseId=kb[\"knowledgeBaseId\"]\n",
    "# )\n",
    "# oss_client.indices.delete(index=index_name)\n",
    "# aoss_client.delete_collection(id=collection_id)\n",
    "# aoss_client.delete_access_policy(\n",
    "#     type=\"data\", name=access_policy[\"accessPolicyDetail\"][\"name\"]\n",
    "# )\n",
    "# aoss_client.delete_security_policy(\n",
    "#     type=\"network\", name=network_policy[\"securityPolicyDetail\"][\"name\"]\n",
    "# )\n",
    "# aoss_client.delete_security_policy(\n",
    "#     type=\"encryption\", name=encryption_policy[\"securityPolicyDetail\"][\"name\"]\n",
    "# )"
   ]
  },
  {
   "cell_type": "code",
   "execution_count": null,
   "metadata": {},
   "outputs": [],
   "source": [
    "# def delete_iam_role_and_policies():\n",
    "#     fm_policy_arn = f\"arn:aws:iam::{account_number}:policy/{fm_policy_name}\"\n",
    "#     s3_policy_arn = f\"arn:aws:iam::{account_number}:policy/{s3_policy_name}\"\n",
    "#     oss_policy_arn = f\"arn:aws:iam::{account_number}:policy/{oss_policy_name}\"\n",
    "#     sm_policy_arn = f\"arn:aws:iam::{account_number}:policy/{sm_policy_name}\"\n",
    "\n",
    "#     iam_client.detach_role_policy(\n",
    "#         RoleName=bedrock_execution_role_name, PolicyArn=s3_policy_arn\n",
    "#     )\n",
    "#     iam_client.detach_role_policy(\n",
    "#         RoleName=bedrock_execution_role_name, PolicyArn=fm_policy_arn\n",
    "#     )\n",
    "#     iam_client.detach_role_policy(\n",
    "#         RoleName=bedrock_execution_role_name, PolicyArn=oss_policy_arn\n",
    "#     )\n",
    "#     iam_client.detach_role_policy(\n",
    "#         RoleName=bedrock_execution_role_name, PolicyArn=sm_policy_arn\n",
    "#     )\n",
    "#     iam_client.delete_role(RoleName=bedrock_execution_role_name)\n",
    "#     iam_client.delete_policy(PolicyArn=s3_policy_arn)\n",
    "#     iam_client.delete_policy(PolicyArn=fm_policy_arn)\n",
    "#     iam_client.delete_policy(PolicyArn=oss_policy_arn)\n",
    "#     iam_client.delete_policy(PolicyArn=sm_policy_arn)\n",
    "#     return 0\n",
    "\n",
    "\n",
    "# delete_iam_role_and_policies()"
   ]
  },
  {
   "cell_type": "code",
   "execution_count": null,
   "metadata": {},
   "outputs": [],
   "source": []
  }
 ],
 "metadata": {
  "kernelspec": {
   "display_name": "bedrock",
   "language": "python",
   "name": "python3"
  },
  "language_info": {
   "codemirror_mode": {
    "name": "ipython",
    "version": 3
   },
   "file_extension": ".py",
   "mimetype": "text/x-python",
   "name": "python",
   "nbconvert_exporter": "python",
   "pygments_lexer": "ipython3",
   "version": "3.11.9"
  }
 },
 "nbformat": 4,
 "nbformat_minor": 2
}
