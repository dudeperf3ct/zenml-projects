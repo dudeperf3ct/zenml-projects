{
 "cells": [
  {
   "cell_type": "markdown",
   "metadata": {},
   "source": [
    "# Training a custom model with Amazon Bedrock"
   ]
  },
  {
   "cell_type": "code",
   "execution_count": 28,
   "metadata": {},
   "outputs": [],
   "source": [
    "import json\n",
    "from pathlib import Path\n",
    "\n",
    "import tiktoken\n",
    "\n",
    "\n",
    "def count_tokens(text, encoding_name=\"cl100k_base\"):\n",
    "    encoding = tiktoken.get_encoding(encoding_name)\n",
    "    num_tokens = len(encoding.encode(text))\n",
    "    return num_tokens\n",
    "\n",
    "\n",
    "def split_text(text, max_tokens=600, encoding_name=\"cl100k_base\"):\n",
    "    encoding = tiktoken.get_encoding(encoding_name)\n",
    "    tokens = encoding.encode(text)\n",
    "    chunks = []\n",
    "    start = 0\n",
    "    while start < len(tokens):\n",
    "        end = min(start + max_tokens, len(tokens))\n",
    "        chunk = encoding.decode(tokens[start:end])\n",
    "        chunks.append(chunk)\n",
    "        start = end\n",
    "    return chunks\n",
    "\n",
    "\n",
    "def process_files(data_dir, output_file):\n",
    "    with open(output_file, \"w\") as f:\n",
    "        for path in Path(data_dir).rglob(\"*.md\"):\n",
    "            with open(path, \"r\") as file:\n",
    "                text = file.read()\n",
    "                chunks = split_text(text)\n",
    "                for chunk in chunks:\n",
    "                    f.write(json.dumps({\"input\": chunk}) + \"\\n\")\n"
   ]
  },
  {
   "cell_type": "code",
   "execution_count": 29,
   "metadata": {},
   "outputs": [],
   "source": [
    "\n",
    "\n",
    "data_dir = (\n",
    "    \"/Users/strickvl/coding/zenml/repos/zenml-projects/bedrock-rag-llm/data\"\n",
    ")\n",
    "output_file = \"pretraining_inputs.jsonl\"\n",
    "\n",
    "process_files(data_dir, output_file)"
   ]
  },
  {
   "cell_type": "markdown",
   "metadata": {},
   "source": [
    "## Upload to S3"
   ]
  },
  {
   "cell_type": "code",
   "execution_count": 30,
   "metadata": {},
   "outputs": [],
   "source": [
    "from zenml.client import Client\n",
    "from zenml.service_connectors.service_connector import ServiceConnector\n",
    "\n",
    "\n",
    "def get_boto_client() -> ServiceConnector:\n",
    "    zc = Client()\n",
    "    return zc.get_service_connector_client(\n",
    "        name_id_or_prefix=\"0b04bcae-efc9-4044-a1c2-b86281cb0820\",  # TODO: pull this out into config file\n",
    "        resource_type=\"aws-generic\",\n",
    "    ).connect()\n",
    "\n",
    "\n",
    "# Upload the JSONL file to S3\n",
    "def upload_to_s3(file_path, bucket_name, object_key):\n",
    "    boto_client = get_boto_client()\n",
    "    s3_client = boto_client.client(\"s3\")\n",
    "    s3_client.upload_file(file_path, bucket_name, object_key)\n",
    "\n"
   ]
  },
  {
   "cell_type": "code",
   "execution_count": 31,
   "metadata": {},
   "outputs": [],
   "source": [
    "\n",
    "# Specify the S3 bucket and object key\n",
    "bucket_name = \"bedrock-zenml-rag-docs\"\n",
    "object_key = \"pretraining_inputs.jsonl\"\n",
    "\n",
    "# Upload the JSONL file to S3\n",
    "upload_to_s3(output_file, bucket_name, object_key)"
   ]
  },
  {
   "cell_type": "markdown",
   "metadata": {},
   "source": [
    "## Setup for Custom Model Training"
   ]
  },
  {
   "cell_type": "code",
   "execution_count": 56,
   "metadata": {},
   "outputs": [],
   "source": [
    "import warnings\n",
    "warnings.filterwarnings('ignore')\n",
    "import json\n",
    "import os\n",
    "import sys\n",
    "import boto3\n",
    "import time\n",
    "import pprint\n",
    "import random\n",
    "\n",
    "boto_client = get_boto_client()\n",
    "sts_client = boto_client.client('sts')\n",
    "region = \"us-east-1\"\n",
    "\n",
    "account_id = sts_client.get_caller_identity()[\"Account\"]\n",
    "s3_suffix = f\"{region}-{account_id}\"\n",
    "bucket_name = f\"bedrock-customization-{s3_suffix}\"\n",
    "s3_client = boto_client.client('s3')\n",
    "bedrock = boto_client.client(service_name=\"bedrock\", region_name=region)\n",
    "bedrock_runtime = boto_client.client(service_name=\"bedrock-runtime\", region_name=region)\n",
    "iam = boto_client.client('iam', region_name=region)"
   ]
  },
  {
   "cell_type": "code",
   "execution_count": 41,
   "metadata": {},
   "outputs": [],
   "source": [
    "role_name = \"AmazonBedrockCustomizationRole1\"\n",
    "s3_bedrock_finetuning_access_policy=\"AmazonBedrockCustomizationPolicy1\"\n",
    "customization_role = f\"arn:aws:iam::{account_id}:role/{role_name}\""
   ]
  },
  {
   "cell_type": "code",
   "execution_count": 57,
   "metadata": {},
   "outputs": [
    {
     "name": "stdout",
     "output_type": "stream",
     "text": [
      "amazon.titan-image-generator-v1:0\n",
      "amazon.titan-image-generator-v2:0\n",
      "amazon.titan-text-lite-v1:0:4k\n",
      "amazon.titan-text-express-v1:0:8k\n",
      "amazon.titan-embed-image-v1:0\n",
      "cohere.command-text-v14:7:4k\n",
      "cohere.command-light-text-v14:7:4k\n",
      "meta.llama2-13b-v1:0:4k\n",
      "meta.llama2-70b-v1:0:4k\n"
     ]
    }
   ],
   "source": [
    "models_fine_tuning = [ model['modelId'] for model in bedrock.list_foundation_models(byCustomizationType=\"FINE_TUNING\")[\"modelSummaries\"]]\n",
    "for model in models_fine_tuning:\n",
    "    print(model)"
   ]
  },
  {
   "cell_type": "code",
   "execution_count": 47,
   "metadata": {},
   "outputs": [],
   "source": [
    "ROLE_DOC = f\"\"\"{{\n",
    "    \"Version\": \"2012-10-17\",\n",
    "    \"Statement\": [\n",
    "        {{\n",
    "            \"Effect\": \"Allow\",\n",
    "            \"Principal\": {{\n",
    "                \"Service\": \"bedrock.amazonaws.com\"\n",
    "            }},\n",
    "            \"Action\": \"sts:AssumeRole\",\n",
    "            \"Condition\": {{\n",
    "                \"StringEquals\": {{\n",
    "                    \"aws:SourceAccount\": \"{account_id}\"\n",
    "                }},\n",
    "                \"ArnEquals\": {{\n",
    "                    \"aws:SourceArn\": \"arn:aws:bedrock:{region}:{account_id}:model-customization-job/*\"\n",
    "                }}\n",
    "            }}\n",
    "        }}\n",
    "    ]\n",
    "}}\n",
    "\"\"\"\n",
    "\n",
    "ACCESS_POLICY_DOC = f\"\"\"{{\n",
    "    \"Version\": \"2012-10-17\",\n",
    "    \"Statement\": [\n",
    "        {{\n",
    "            \"Effect\": \"Allow\",\n",
    "            \"Action\": [\n",
    "                \"s3:AbortMultipartUpload\",\n",
    "                \"s3:DeleteObject\",\n",
    "                \"s3:PutObject\",\n",
    "                \"s3:GetObject\",\n",
    "                \"s3:GetBucketAcl\",\n",
    "                \"s3:GetBucketNotification\",\n",
    "                \"s3:ListBucket\",\n",
    "                \"s3:PutBucketNotification\"\n",
    "            ],\n",
    "            \"Resource\": [\n",
    "                \"arn:aws:s3:::{bucket_name}\",\n",
    "                \"arn:aws:s3:::{bucket_name}/*\"\n",
    "            ]\n",
    "        }}\n",
    "    ]\n",
    "}}\"\"\""
   ]
  },
  {
   "cell_type": "code",
   "execution_count": 48,
   "metadata": {},
   "outputs": [
    {
     "name": "stdout",
     "output_type": "stream",
     "text": [
      "{'Role': {'Path': '/',\n",
      "          'RoleName': 'AmazonBedrockCustomizationRole1',\n",
      "          'RoleId': 'AROAU6GDV3UC73JYBCTEW',\n",
      "          'Arn': 'arn:aws:iam::339712793861:role/AmazonBedrockCustomizationRole1',\n",
      "          'CreateDate': datetime.datetime(2024, 9, 6, 15, 41, 11, tzinfo=tzutc()),\n",
      "          'AssumeRolePolicyDocument': {'Version': '2012-10-17',\n",
      "                                       'Statement': [{'Effect': 'Allow',\n",
      "                                                      'Principal': {'Service': 'bedrock.amazonaws.com'},\n",
      "                                                      'Action': 'sts:AssumeRole',\n",
      "                                                      'Condition': {'StringEquals': {'aws:SourceAccount': '339712793861'},\n",
      "                                                                    'ArnEquals': {'aws:SourceArn': 'arn:aws:bedrock:us-east-1:339712793861:model-customization-job/*'}}}]}},\n",
      " 'ResponseMetadata': {'RequestId': 'c1c31060-3bd8-4d3e-9eaa-7a041ca3d988',\n",
      "                      'HTTPStatusCode': 200,\n",
      "                      'HTTPHeaders': {'date': 'Fri, 06 Sep 2024 15:41:10 GMT',\n",
      "                                      'x-amzn-requestid': 'c1c31060-3bd8-4d3e-9eaa-7a041ca3d988',\n",
      "                                      'content-type': 'text/xml',\n",
      "                                      'content-length': '1778'},\n",
      "                      'RetryAttempts': 0}}\n"
     ]
    }
   ],
   "source": [
    "response = iam.create_role(\n",
    "    RoleName=role_name,\n",
    "    AssumeRolePolicyDocument=ROLE_DOC,\n",
    "    Description=\"Role for Bedrock to access S3 for finetuning\",\n",
    ")\n",
    "pprint.pp(response)"
   ]
  },
  {
   "cell_type": "code",
   "execution_count": 49,
   "metadata": {},
   "outputs": [
    {
     "name": "stdout",
     "output_type": "stream",
     "text": [
      "'arn:aws:iam::339712793861:role/AmazonBedrockCustomizationRole1'\n"
     ]
    }
   ],
   "source": [
    "role_arn = response[\"Role\"][\"Arn\"]\n",
    "pprint.pp(role_arn)"
   ]
  },
  {
   "cell_type": "code",
   "execution_count": 50,
   "metadata": {},
   "outputs": [
    {
     "name": "stdout",
     "output_type": "stream",
     "text": [
      "{'Policy': {'PolicyName': 'AmazonBedrockCustomizationPolicy1',\n",
      "            'PolicyId': 'ANPAU6GDV3UCWBF6JOAOA',\n",
      "            'Arn': 'arn:aws:iam::339712793861:policy/AmazonBedrockCustomizationPolicy1',\n",
      "            'Path': '/',\n",
      "            'DefaultVersionId': 'v1',\n",
      "            'AttachmentCount': 0,\n",
      "            'PermissionsBoundaryUsageCount': 0,\n",
      "            'IsAttachable': True,\n",
      "            'CreateDate': datetime.datetime(2024, 9, 6, 15, 41, 31, tzinfo=tzutc()),\n",
      "            'UpdateDate': datetime.datetime(2024, 9, 6, 15, 41, 31, tzinfo=tzutc())},\n",
      " 'ResponseMetadata': {'RequestId': '27804fe8-8b6f-4d63-9980-ec100b7b2c67',\n",
      "                      'HTTPStatusCode': 200,\n",
      "                      'HTTPHeaders': {'date': 'Fri, 06 Sep 2024 15:41:31 GMT',\n",
      "                                      'x-amzn-requestid': '27804fe8-8b6f-4d63-9980-ec100b7b2c67',\n",
      "                                      'content-type': 'text/xml',\n",
      "                                      'content-length': '801'},\n",
      "                      'RetryAttempts': 0}}\n"
     ]
    }
   ],
   "source": [
    "response = iam.create_policy(\n",
    "    PolicyName=s3_bedrock_finetuning_access_policy,\n",
    "    PolicyDocument=ACCESS_POLICY_DOC,\n",
    ")\n",
    "pprint.pp(response)"
   ]
  },
  {
   "cell_type": "code",
   "execution_count": 51,
   "metadata": {},
   "outputs": [
    {
     "name": "stdout",
     "output_type": "stream",
     "text": [
      "'arn:aws:iam::339712793861:policy/AmazonBedrockCustomizationPolicy1'\n"
     ]
    }
   ],
   "source": [
    "policy_arn = response[\"Policy\"][\"Arn\"]\n",
    "pprint.pp(policy_arn)"
   ]
  },
  {
   "cell_type": "code",
   "execution_count": 52,
   "metadata": {},
   "outputs": [
    {
     "data": {
      "text/plain": [
       "{'ResponseMetadata': {'RequestId': 'a41a5ab2-cae5-4ec4-8cc7-27b0a4552a4f',\n",
       "  'HTTPStatusCode': 200,\n",
       "  'HTTPHeaders': {'date': 'Fri, 06 Sep 2024 15:41:48 GMT',\n",
       "   'x-amzn-requestid': 'a41a5ab2-cae5-4ec4-8cc7-27b0a4552a4f',\n",
       "   'content-type': 'text/xml',\n",
       "   'content-length': '212'},\n",
       "  'RetryAttempts': 0}}"
      ]
     },
     "execution_count": 52,
     "metadata": {},
     "output_type": "execute_result"
    }
   ],
   "source": [
    "iam.attach_role_policy(\n",
    "    RoleName=role_name,\n",
    "    PolicyArn=policy_arn,\n",
    ")"
   ]
  },
  {
   "cell_type": "markdown",
   "metadata": {},
   "source": [
    "## Create Custom Model"
   ]
  },
  {
   "cell_type": "code",
   "execution_count": 45,
   "metadata": {},
   "outputs": [],
   "source": [
    "boto_client = get_boto_client()\n",
    "bedrock_client = boto_client.client(\"bedrock\", region_name=region)\n"
   ]
  },
  {
   "cell_type": "code",
   "execution_count": 58,
   "metadata": {},
   "outputs": [
    {
     "name": "stdout",
     "output_type": "stream",
     "text": [
      "Model customization job ARN: arn:aws:bedrock:us-east-1:339712793861:model-customization-job/amazon.titan-text-express-v1:0:8k/2fb41q1dfsat\n"
     ]
    }
   ],
   "source": [
    "from datetime import datetime\n",
    "ts = datetime.now().strftime(\"%Y-%m-%d-%H-%M-%S\")\n",
    "\n",
    "pretraining_data_filename = \"pretraining_inputs.jsonl\"\n",
    "bucket_name = \"bedrock-zenml-rag-docs\"\n",
    "base_model_id = \"amazon.titan-text-express-v1:0:8k\"\n",
    "customization_type = \"FINE_TUNING\"\n",
    "\n",
    "response = bedrock_client.create_model_customization_job(\n",
    "    jobName=f\"my-custom-model-finetune-job-{ts}\",\n",
    "    customModelName=\"my-custom-model-titan-text-express-v1\",\n",
    "    customizationType=customization_type,\n",
    "    roleArn=role_arn,\n",
    "    baseModelIdentifier=base_model_id,\n",
    "    jobTags=[{\"key\": \"z-owner\", \"value\": \"alex-strick\"}],\n",
    "    customModelTags=[{\"key\": \"z-owner\", \"value\": \"alex-strick\"}],\n",
    "    trainingDataConfig={\n",
    "        \"s3Uri\": f\"s3://{bucket_name}/{pretraining_data_filename}\"\n",
    "    },\n",
    "    outputDataConfig={\n",
    "        \"s3Uri\": f\"s3://{bucket_name}\"\n",
    "    },\n",
    "    hyperParameters={\n",
    "        \"learningRate\": \"0.00001\",\n",
    "        \"epochCount\": \"5\",\n",
    "        \"batchSize\": \"1\",\n",
    "        \"learningRateWarmupSteps\": \"5\",\n",
    "    }\n",
    ")\n",
    "\n",
    "job_arn = response[\"jobArn\"]\n",
    "print(f\"Model customization job ARN: {job_arn}\")"
   ]
  },
  {
   "cell_type": "code",
   "execution_count": null,
   "metadata": {},
   "outputs": [],
   "source": []
  }
 ],
 "metadata": {
  "kernelspec": {
   "display_name": "bedrock",
   "language": "python",
   "name": "python3"
  },
  "language_info": {
   "codemirror_mode": {
    "name": "ipython",
    "version": 3
   },
   "file_extension": ".py",
   "mimetype": "text/x-python",
   "name": "python",
   "nbconvert_exporter": "python",
   "pygments_lexer": "ipython3",
   "version": "3.11.9"
  }
 },
 "nbformat": 4,
 "nbformat_minor": 2
}
