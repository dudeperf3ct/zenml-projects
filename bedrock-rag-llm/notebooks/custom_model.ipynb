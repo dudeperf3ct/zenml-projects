{
 "cells": [
  {
   "cell_type": "markdown",
   "metadata": {},
   "source": [
    "# Training a custom model with Amazon Bedrock"
   ]
  },
  {
   "cell_type": "code",
   "execution_count": 1,
   "metadata": {},
   "outputs": [],
   "source": [
    "import json\n",
    "from pathlib import Path\n",
    "\n",
    "import tiktoken\n",
    "\n",
    "\n",
    "def count_tokens(text, encoding_name=\"cl100k_base\"):\n",
    "    encoding = tiktoken.get_encoding(encoding_name)\n",
    "    num_tokens = len(encoding.encode(text))\n",
    "    return num_tokens\n",
    "\n",
    "\n",
    "def split_text(text, max_tokens=600, encoding_name=\"cl100k_base\"):\n",
    "    encoding = tiktoken.get_encoding(encoding_name)\n",
    "    tokens = encoding.encode(text)\n",
    "    chunks = []\n",
    "    start = 0\n",
    "    while start < len(tokens):\n",
    "        end = min(start + max_tokens, len(tokens))\n",
    "        chunk = encoding.decode(tokens[start:end])\n",
    "        chunks.append(chunk)\n",
    "        start = end\n",
    "    return chunks\n",
    "\n",
    "\n",
    "def process_files(data_dir, output_file):\n",
    "    with open(output_file, \"w\") as f:\n",
    "        for path in Path(data_dir).rglob(\"*.md\"):\n",
    "            with open(path, \"r\") as file:\n",
    "                text = file.read()\n",
    "                chunks = split_text(text)\n",
    "                for chunk in chunks:\n",
    "                    f.write(json.dumps({\"input\": chunk}) + \"\\n\")\n",
    "\n",
    "\n",
    "data_dir = (\n",
    "    \"/Users/strickvl/coding/zenml/repos/zenml-projects/bedrock-rag-llm/data\"\n",
    ")\n",
    "output_file = \"pretraining_inputs.jsonl\"\n",
    "\n",
    "process_files(data_dir, output_file)"
   ]
  },
  {
   "cell_type": "markdown",
   "metadata": {},
   "source": [
    "## Upload to S3"
   ]
  },
  {
   "cell_type": "code",
   "execution_count": 2,
   "metadata": {},
   "outputs": [
    {
     "name": "stdout",
     "output_type": "stream",
     "text": [
      "\u001b[33mCould not import GCP service connector: No module named 'google.api_core'.\u001b[0m\n",
      "\u001b[33mCould not import Azure service connector: No module named 'azure'.\u001b[0m\n",
      "\u001b[33mCould not import HyperAI service connector: No module named 'paramiko'.\u001b[0m\n"
     ]
    }
   ],
   "source": [
    "from zenml.client import Client\n",
    "from zenml.service_connectors.service_connector import ServiceConnector\n",
    "\n",
    "\n",
    "def get_boto_client() -> ServiceConnector:\n",
    "    zc = Client()\n",
    "    return zc.get_service_connector_client(\n",
    "        name_id_or_prefix=\"0b04bcae-efc9-4044-a1c2-b86281cb0820\",  # TODO: pull this out into config file\n",
    "        resource_type=\"aws-generic\",\n",
    "    ).connect()\n",
    "\n",
    "\n",
    "# Upload the JSONL file to S3\n",
    "def upload_to_s3(file_path, bucket_name, object_key):\n",
    "    boto_client = get_boto_client()\n",
    "    s3_client = boto_client.client(\"s3\")\n",
    "    s3_client.upload_file(file_path, bucket_name, object_key)\n",
    "\n",
    "\n",
    "# Specify the S3 bucket and object key\n",
    "bucket_name = \"bedrock-zenml-rag-docs\"\n",
    "object_key = \"pretraining_inputs.jsonl\"\n",
    "\n",
    "# Upload the JSONL file to S3\n",
    "upload_to_s3(output_file, bucket_name, object_key)"
   ]
  },
  {
   "cell_type": "code",
   "execution_count": null,
   "metadata": {},
   "outputs": [],
   "source": []
  }
 ],
 "metadata": {
  "kernelspec": {
   "display_name": "bedrock",
   "language": "python",
   "name": "python3"
  },
  "language_info": {
   "codemirror_mode": {
    "name": "ipython",
    "version": 3
   },
   "file_extension": ".py",
   "mimetype": "text/x-python",
   "name": "python",
   "nbconvert_exporter": "python",
   "pygments_lexer": "ipython3",
   "version": "3.11.9"
  }
 },
 "nbformat": 4,
 "nbformat_minor": 2
}
